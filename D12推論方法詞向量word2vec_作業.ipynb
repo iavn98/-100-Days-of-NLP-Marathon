{
  "cells": [
    {
      "cell_type": "markdown",
      "metadata": {
        "id": "TMnBBAsx5pyT"
      },
      "source": [
        "### 作業目的: 了解為何需要推論方法的詞向量及其優缺點\n",
        "本次作業主要為思考題，請學員根據題目思考適合的回答"
      ]
    },
    {
      "cell_type": "markdown",
      "metadata": {
        "id": "O3X9-aA75pyU"
      },
      "source": [
        "### Question:\n",
        "本次課程學習了word2vec中的兩個模型CBOW與Skip-gram，請學員思考與比較此兩種模型的優缺點?"
      ]
    },
    {
      "cell_type": "markdown",
      "metadata": {
        "id": "3UBws6rg5pyV"
      },
      "source": [
        "#CBOW\n",
        "概念：使用上下文詞語來預測目標詞。例如，給定「I ___ to school」，模型會根據「I」、「to」、「school」這些上下文詞，預測空格中的詞是「go」。\n",
        "\n",
        "優點：\n",
        "\n",
        "1.訓練速度快：由於模型同時根據多個上下文詞來預測目標詞，計算效率較高。\n",
        "\n",
        "2.適合小資料集：在較小的資料集中表現較穩定，能夠生成不錯的詞向量。\n",
        "\n",
        "3.平滑的上下文學習：適合處理常見詞的上下文，能捕捉詞的語意和語境。\n",
        "\n",
        "\n",
        "缺點：\n",
        "\n",
        "\n",
        "1.難以捕捉稀有詞語的資訊：由於重點放在常見詞的上下文中，對低頻詞的表現可能較差。\n",
        "\n",
        "2.忽略詞的順序：CBOW 只考量上下文詞的總和，無法保留詞語之間的順序資訊。\n",
        "\n",
        "\n",
        "\n",
        "#Skip-gram\n",
        "概念：使用目標詞預測其上下文詞。例如，給定「go」，模型會嘗試預測與其相關的「I」、「to」、「school」等上下文詞。\n",
        "\n",
        "優點：\n",
        "\n",
        "1.擅長處理稀有詞語：Skip-gram 透過目標詞預測其上下文，因此能生成較佳的低頻詞向量。\n",
        "\n",
        "2.較細緻的詞語關係捕捉：能夠更準確地學習詞語之間的語義關係。\n",
        "適合大型語料庫：在大資料集中表現優異，能捕捉到更多豐富的語言模式。\n",
        "\n",
        "\n",
        "缺點：\n",
        "\n",
        "1.訓練速度較慢：由於每次只預測一個上下文詞，所需的計算量較大。\n",
        "\n",
        "2.對常見詞的學習效率較低：在頻繁出現的詞語上，其效果可能不如 CBOW。"
      ]
    }
  ],
  "metadata": {
    "kernelspec": {
      "display_name": "Python 3",
      "language": "python",
      "name": "python3"
    },
    "language_info": {
      "codemirror_mode": {
        "name": "ipython",
        "version": 3
      },
      "file_extension": ".py",
      "mimetype": "text/x-python",
      "name": "python",
      "nbconvert_exporter": "python",
      "pygments_lexer": "ipython3",
      "version": "3.7.3"
    },
    "colab": {
      "provenance": [],
      "toc_visible": true
    }
  },
  "nbformat": 4,
  "nbformat_minor": 0
}