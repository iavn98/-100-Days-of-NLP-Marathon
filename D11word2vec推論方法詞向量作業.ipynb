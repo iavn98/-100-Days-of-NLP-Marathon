{
  "cells": [
    {
      "cell_type": "markdown",
      "metadata": {
        "id": "jWn_NsepcLcC"
      },
      "source": [
        "### 作業目的: 了解為何需要推論方法的詞向量及其優缺點\n",
        "\n",
        "本次作業主要為思考題，請學員根據題目思考適合的回答"
      ]
    },
    {
      "cell_type": "markdown",
      "metadata": {
        "id": "jnxSCc9vcLcE"
      },
      "source": [
        "### Q1:\n",
        "請學員思考為何不直接使用one-hot encoding的方式建立詞向量，而要有其他計數方法與推論方法的詞向量產生方式？"
      ]
    },
    {
      "cell_type": "markdown",
      "metadata": {
        "id": "gX2zv0wdcLcE"
      },
      "source": [
        "隨著獨熱編碼(One-hot encoding)的詞彙量、字典越來越大，稀疏的向量也會使模型計算量加大、 儲存效率越來越低。"
      ]
    },
    {
      "cell_type": "markdown",
      "metadata": {
        "id": "qfryH1x-cLcF"
      },
      "source": [
        "### Q2:\n",
        "相較於計數手法的詞向量(ex: one-hot, 共現矩陣, PPMI)，word2vec的方法有何優點？"
      ]
    },
    {
      "cell_type": "markdown",
      "metadata": {
        "id": "xOz1TBI_cLcF"
      },
      "source": [
        "根據分布假說(distribution hypothesis)word2vec會考慮上下文，與計數手法比起來效果較佳\n",
        "當新字詞加入時，可以利用先前訓練好的模型當預訓練權重，而不需從頭訓練\n",
        "以小批次(mini-batch)進行訓練，因此當文本數量很龐大時，也可以訓練並使用GPU進行運算加速"
      ]
    },
    {
      "cell_type": "code",
      "execution_count": null,
      "metadata": {
        "id": "dCu9RpmjcLcF"
      },
      "outputs": [],
      "source": []
    }
  ],
  "metadata": {
    "kernelspec": {
      "display_name": "cupoy_env",
      "language": "python",
      "name": "cupoy_env"
    },
    "language_info": {
      "codemirror_mode": {
        "name": "ipython",
        "version": 3
      },
      "file_extension": ".py",
      "mimetype": "text/x-python",
      "name": "python",
      "nbconvert_exporter": "python",
      "pygments_lexer": "ipython3",
      "version": "3.7.3"
    },
    "colab": {
      "provenance": [],
      "toc_visible": true
    }
  },
  "nbformat": 4,
  "nbformat_minor": 0
}