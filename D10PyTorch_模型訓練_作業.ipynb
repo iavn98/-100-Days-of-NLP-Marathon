{
  "cells": [
    {
      "cell_type": "code",
      "execution_count": 6,
      "metadata": {
        "colab": {
          "base_uri": "https://localhost:8080/",
          "height": 75
        },
        "id": "JDxHaOaYsH6D",
        "outputId": "8df6ff51-492a-4ecc-a3b6-a1f453be8c42"
      },
      "outputs": [
        {
          "output_type": "display_data",
          "data": {
            "text/plain": [
              "<IPython.core.display.HTML object>"
            ],
            "text/html": [
              "\n",
              "     <input type=\"file\" id=\"files-b60e43d9-c3a1-45bc-be1b-211e1493c00d\" name=\"files[]\" multiple disabled\n",
              "        style=\"border:none\" />\n",
              "     <output id=\"result-b60e43d9-c3a1-45bc-be1b-211e1493c00d\">\n",
              "      Upload widget is only available when the cell has been executed in the\n",
              "      current browser session. Please rerun this cell to enable.\n",
              "      </output>\n",
              "      <script>// Copyright 2017 Google LLC\n",
              "//\n",
              "// Licensed under the Apache License, Version 2.0 (the \"License\");\n",
              "// you may not use this file except in compliance with the License.\n",
              "// You may obtain a copy of the License at\n",
              "//\n",
              "//      http://www.apache.org/licenses/LICENSE-2.0\n",
              "//\n",
              "// Unless required by applicable law or agreed to in writing, software\n",
              "// distributed under the License is distributed on an \"AS IS\" BASIS,\n",
              "// WITHOUT WARRANTIES OR CONDITIONS OF ANY KIND, either express or implied.\n",
              "// See the License for the specific language governing permissions and\n",
              "// limitations under the License.\n",
              "\n",
              "/**\n",
              " * @fileoverview Helpers for google.colab Python module.\n",
              " */\n",
              "(function(scope) {\n",
              "function span(text, styleAttributes = {}) {\n",
              "  const element = document.createElement('span');\n",
              "  element.textContent = text;\n",
              "  for (const key of Object.keys(styleAttributes)) {\n",
              "    element.style[key] = styleAttributes[key];\n",
              "  }\n",
              "  return element;\n",
              "}\n",
              "\n",
              "// Max number of bytes which will be uploaded at a time.\n",
              "const MAX_PAYLOAD_SIZE = 100 * 1024;\n",
              "\n",
              "function _uploadFiles(inputId, outputId) {\n",
              "  const steps = uploadFilesStep(inputId, outputId);\n",
              "  const outputElement = document.getElementById(outputId);\n",
              "  // Cache steps on the outputElement to make it available for the next call\n",
              "  // to uploadFilesContinue from Python.\n",
              "  outputElement.steps = steps;\n",
              "\n",
              "  return _uploadFilesContinue(outputId);\n",
              "}\n",
              "\n",
              "// This is roughly an async generator (not supported in the browser yet),\n",
              "// where there are multiple asynchronous steps and the Python side is going\n",
              "// to poll for completion of each step.\n",
              "// This uses a Promise to block the python side on completion of each step,\n",
              "// then passes the result of the previous step as the input to the next step.\n",
              "function _uploadFilesContinue(outputId) {\n",
              "  const outputElement = document.getElementById(outputId);\n",
              "  const steps = outputElement.steps;\n",
              "\n",
              "  const next = steps.next(outputElement.lastPromiseValue);\n",
              "  return Promise.resolve(next.value.promise).then((value) => {\n",
              "    // Cache the last promise value to make it available to the next\n",
              "    // step of the generator.\n",
              "    outputElement.lastPromiseValue = value;\n",
              "    return next.value.response;\n",
              "  });\n",
              "}\n",
              "\n",
              "/**\n",
              " * Generator function which is called between each async step of the upload\n",
              " * process.\n",
              " * @param {string} inputId Element ID of the input file picker element.\n",
              " * @param {string} outputId Element ID of the output display.\n",
              " * @return {!Iterable<!Object>} Iterable of next steps.\n",
              " */\n",
              "function* uploadFilesStep(inputId, outputId) {\n",
              "  const inputElement = document.getElementById(inputId);\n",
              "  inputElement.disabled = false;\n",
              "\n",
              "  const outputElement = document.getElementById(outputId);\n",
              "  outputElement.innerHTML = '';\n",
              "\n",
              "  const pickedPromise = new Promise((resolve) => {\n",
              "    inputElement.addEventListener('change', (e) => {\n",
              "      resolve(e.target.files);\n",
              "    });\n",
              "  });\n",
              "\n",
              "  const cancel = document.createElement('button');\n",
              "  inputElement.parentElement.appendChild(cancel);\n",
              "  cancel.textContent = 'Cancel upload';\n",
              "  const cancelPromise = new Promise((resolve) => {\n",
              "    cancel.onclick = () => {\n",
              "      resolve(null);\n",
              "    };\n",
              "  });\n",
              "\n",
              "  // Wait for the user to pick the files.\n",
              "  const files = yield {\n",
              "    promise: Promise.race([pickedPromise, cancelPromise]),\n",
              "    response: {\n",
              "      action: 'starting',\n",
              "    }\n",
              "  };\n",
              "\n",
              "  cancel.remove();\n",
              "\n",
              "  // Disable the input element since further picks are not allowed.\n",
              "  inputElement.disabled = true;\n",
              "\n",
              "  if (!files) {\n",
              "    return {\n",
              "      response: {\n",
              "        action: 'complete',\n",
              "      }\n",
              "    };\n",
              "  }\n",
              "\n",
              "  for (const file of files) {\n",
              "    const li = document.createElement('li');\n",
              "    li.append(span(file.name, {fontWeight: 'bold'}));\n",
              "    li.append(span(\n",
              "        `(${file.type || 'n/a'}) - ${file.size} bytes, ` +\n",
              "        `last modified: ${\n",
              "            file.lastModifiedDate ? file.lastModifiedDate.toLocaleDateString() :\n",
              "                                    'n/a'} - `));\n",
              "    const percent = span('0% done');\n",
              "    li.appendChild(percent);\n",
              "\n",
              "    outputElement.appendChild(li);\n",
              "\n",
              "    const fileDataPromise = new Promise((resolve) => {\n",
              "      const reader = new FileReader();\n",
              "      reader.onload = (e) => {\n",
              "        resolve(e.target.result);\n",
              "      };\n",
              "      reader.readAsArrayBuffer(file);\n",
              "    });\n",
              "    // Wait for the data to be ready.\n",
              "    let fileData = yield {\n",
              "      promise: fileDataPromise,\n",
              "      response: {\n",
              "        action: 'continue',\n",
              "      }\n",
              "    };\n",
              "\n",
              "    // Use a chunked sending to avoid message size limits. See b/62115660.\n",
              "    let position = 0;\n",
              "    do {\n",
              "      const length = Math.min(fileData.byteLength - position, MAX_PAYLOAD_SIZE);\n",
              "      const chunk = new Uint8Array(fileData, position, length);\n",
              "      position += length;\n",
              "\n",
              "      const base64 = btoa(String.fromCharCode.apply(null, chunk));\n",
              "      yield {\n",
              "        response: {\n",
              "          action: 'append',\n",
              "          file: file.name,\n",
              "          data: base64,\n",
              "        },\n",
              "      };\n",
              "\n",
              "      let percentDone = fileData.byteLength === 0 ?\n",
              "          100 :\n",
              "          Math.round((position / fileData.byteLength) * 100);\n",
              "      percent.textContent = `${percentDone}% done`;\n",
              "\n",
              "    } while (position < fileData.byteLength);\n",
              "  }\n",
              "\n",
              "  // All done.\n",
              "  yield {\n",
              "    response: {\n",
              "      action: 'complete',\n",
              "    }\n",
              "  };\n",
              "}\n",
              "\n",
              "scope.google = scope.google || {};\n",
              "scope.google.colab = scope.google.colab || {};\n",
              "scope.google.colab._files = {\n",
              "  _uploadFiles,\n",
              "  _uploadFilesContinue,\n",
              "};\n",
              "})(self);\n",
              "</script> "
            ]
          },
          "metadata": {}
        },
        {
          "output_type": "stream",
          "name": "stdout",
          "text": [
            "Saving spam_data.zip to spam_data.zip\n"
          ]
        }
      ],
      "source": [
        "from google.colab import files\n",
        "uploaded = files.upload()  # 這會彈出上傳文件的窗口"
      ]
    },
    {
      "cell_type": "code",
      "source": [
        "!unzip -q spam_data.zip"
      ],
      "metadata": {
        "id": "FTBfkwfcgbEU"
      },
      "execution_count": 14,
      "outputs": []
    },
    {
      "cell_type": "code",
      "execution_count": 15,
      "metadata": {
        "id": "xKljB-LrqYNp"
      },
      "outputs": [],
      "source": [
        "import torch\n",
        "import torch.nn as nn\n",
        "import torchvision.models as models\n",
        "import torch.nn.functional as F\n",
        "import numpy as np\n",
        "import matplotlib.pyplot as plt\n",
        "import pandas as pd\n",
        "import os\n",
        "import glob\n",
        "import codecs\n",
        "import re\n",
        "\n",
        "from sklearn.model_selection import train_test_split\n",
        "from sklearn import metrics\n",
        "from sklearn.metrics import classification_report"
      ]
    },
    {
      "cell_type": "markdown",
      "metadata": {
        "id": "pw4LHNnmqYNy"
      },
      "source": [
        "## 資料準備 : 詳細介紹可參考NLP第一階段課程Day20,21"
      ]
    },
    {
      "cell_type": "code",
      "execution_count": 51,
      "metadata": {
        "id": "-4-8_e51qYN4"
      },
      "outputs": [],
      "source": [
        "all_data = []\n",
        "for root, dirs, files in os.walk(\"spam_data\"):\n",
        "    for name in files:\n",
        "        filename = os.path.join(root, name)\n",
        "        is_spam = 0 if 'ham' in filename else 1\n",
        "        # codecs.open可以避開錯誤，用errors='ignore'\n",
        "        with codecs.open(filename, encoding='utf-8', errors='ignore') as f:\n",
        "            for line in f.readlines():\n",
        "                # 這個line的開頭為Subject:\n",
        "                if line.startswith('Subject:'):\n",
        "                    subject = re.sub(r'^Subject:', '', line).strip()\n",
        "                    all_data.append([subject, is_spam])\n",
        "all_data = np.array(all_data, dtype=object)"
      ]
    },
    {
      "cell_type": "code",
      "execution_count": 52,
      "metadata": {
        "id": "5FZWnMjcqYN6"
      },
      "outputs": [],
      "source": [
        "X = all_data[:,0]\n",
        "Y = all_data[:,1].astype(np.uint8)"
      ]
    },
    {
      "cell_type": "code",
      "execution_count": 53,
      "metadata": {
        "colab": {
          "base_uri": "https://localhost:8080/"
        },
        "id": "SIoJcVRAqYN7",
        "outputId": "f48b4cd4-72ac-4225-c728-3150b3e925c7"
      },
      "outputs": [
        {
          "output_type": "stream",
          "name": "stderr",
          "text": [
            "[nltk_data] Downloading package punkt to /root/nltk_data...\n",
            "[nltk_data]   Package punkt is already up-to-date!\n",
            "[nltk_data] Downloading package stopwords to /root/nltk_data...\n",
            "[nltk_data]   Package stopwords is already up-to-date!\n",
            "[nltk_data] Downloading package averaged_perceptron_tagger to\n",
            "[nltk_data]     /root/nltk_data...\n",
            "[nltk_data]   Package averaged_perceptron_tagger is already up-to-\n",
            "[nltk_data]       date!\n",
            "[nltk_data] Downloading package wordnet to /root/nltk_data...\n",
            "[nltk_data]   Package wordnet is already up-to-date!\n"
          ]
        }
      ],
      "source": [
        "import nltk\n",
        "nltk.download(['punkt', 'stopwords', 'averaged_perceptron_tagger', 'wordnet'])\n",
        "\n",
        "from nltk.corpus import stopwords\n",
        "# Lemmatize with POS Tag\n",
        "from nltk.corpus import wordnet\n",
        "from nltk.stem import WordNetLemmatizer\n",
        "\n",
        "## 創建Lemmatizer\n",
        "lemmatizer = WordNetLemmatizer()\n",
        "def get_wordnet_pos(word):\n",
        "    \"\"\"將pos_tag結果mapping到lemmatizer中pos的格式\"\"\"\n",
        "    tag = nltk.pos_tag([word])[0][1][0].upper()\n",
        "    tag_dict = {\"J\": wordnet.ADJ,\n",
        "                \"N\": wordnet.NOUN,\n",
        "                \"V\": wordnet.VERB,\n",
        "                \"R\": wordnet.ADV}\n",
        "\n",
        "    return tag_dict.get(tag, wordnet.NOUN)\n",
        "\n",
        "\n",
        "def clean_content(X):\n",
        "    # remove non-alphabet characters\n",
        "    X_clean = [re.sub(r'[^a-zA-Z]', ' ', x).lower() for x in X]\n",
        "    # tokenize\n",
        "    X_word_tokenize = [nltk.word_tokenize(x) for x in X_clean]\n",
        "    # stopwords_lemmatizer\n",
        "    X_stopwords_lemmatizer = []\n",
        "    stop_words = set(stopwords.words('english'))\n",
        "    for content in X_word_tokenize:\n",
        "        content_clean = []\n",
        "        for word in content:\n",
        "            if word not in stop_words:\n",
        "                word = lemmatizer.lemmatize(word, get_wordnet_pos(word))\n",
        "                content_clean.append(word)\n",
        "        X_stopwords_lemmatizer.append(content_clean)\n",
        "\n",
        "    X_output = [' '.join(x) for x in X_stopwords_lemmatizer]\n",
        "\n",
        "    return X_output\n",
        "\n"
      ]
    },
    {
      "cell_type": "code",
      "execution_count": 54,
      "metadata": {
        "id": "56sy9mIPqYN_"
      },
      "outputs": [],
      "source": [
        "X = clean_content(X)"
      ]
    },
    {
      "cell_type": "code",
      "execution_count": 55,
      "metadata": {
        "id": "kvN3I4zvqYOA"
      },
      "outputs": [],
      "source": [
        "from sklearn.feature_extraction.text import CountVectorizer\n",
        "#max_features是要建造幾個column，會按造字出現的頻率高低去篩選，1500並沒有特別含義，大家可以自己嘗試不同數值或不加入限制\n",
        "cv=CountVectorizer(max_features = 2000)\n",
        "X=cv.fit_transform(X).toarray()"
      ]
    },
    {
      "cell_type": "code",
      "execution_count": 56,
      "metadata": {
        "id": "9rF_jFAsqYOB"
      },
      "outputs": [],
      "source": [
        "from sklearn.model_selection import train_test_split\n",
        "# random_state是為了讓各為學員得到相同的結果，平時可以移除\n",
        "x_train, x_test, y_train, y_test = train_test_split(X, Y, test_size = 0.2, random_state = 0)"
      ]
    },
    {
      "cell_type": "code",
      "execution_count": 57,
      "metadata": {
        "id": "TgcFkidlqYOC",
        "outputId": "7f799a3c-b158-4254-b506-9e83c402d2be",
        "colab": {
          "base_uri": "https://localhost:8080/"
        }
      },
      "outputs": [
        {
          "output_type": "execute_result",
          "data": {
            "text/plain": [
              "(2738, 2000)"
            ]
          },
          "metadata": {},
          "execution_count": 57
        }
      ],
      "source": [
        "x_train.shape"
      ]
    },
    {
      "cell_type": "code",
      "execution_count": 58,
      "metadata": {
        "id": "6HYcgq8LqYOD",
        "outputId": "c03af033-a5e0-481c-9aa1-fe26c9cba856",
        "colab": {
          "base_uri": "https://localhost:8080/"
        }
      },
      "outputs": [
        {
          "output_type": "execute_result",
          "data": {
            "text/plain": [
              "array([0, 1], dtype=uint8)"
            ]
          },
          "metadata": {},
          "execution_count": 58
        }
      ],
      "source": [
        "np.unique(y_train)"
      ]
    },
    {
      "cell_type": "markdown",
      "metadata": {
        "id": "17l-qXo7qYOF"
      },
      "source": [
        "### 判斷是否有GPU可以使用"
      ]
    },
    {
      "cell_type": "code",
      "execution_count": 59,
      "metadata": {
        "id": "w2gVJD0hqYOG"
      },
      "outputs": [],
      "source": [
        "device = 'cuda' if torch.cuda.is_available() else 'cpu'"
      ]
    },
    {
      "cell_type": "markdown",
      "metadata": {
        "id": "zYieOeuLqYOH"
      },
      "source": [
        "### 模型搭建"
      ]
    },
    {
      "cell_type": "code",
      "execution_count": 60,
      "metadata": {
        "id": "8NavRKq6qYOH"
      },
      "outputs": [],
      "source": [
        "class LinearBNAC(nn.Module):\n",
        "    def __init__(self, in_channels, out_channels, bias=True, dropout=0.3, is_output=False):\n",
        "        super(LinearBNAC, self).__init__()\n",
        "        if is_output:\n",
        "            self.linear = nn.Linear(in_channels, out_channels, bias=bias)\n",
        "        else:\n",
        "            self.linear = nn.Sequential(\n",
        "                nn.Linear(in_channels, out_channels, bias=bias),\n",
        "                nn.BatchNorm1d(out_channels),\n",
        "                nn.LeakyReLU(inplace=True),\n",
        "                nn.Dropout(dropout),\n",
        "            )\n",
        "\n",
        "    def forward(self, x):\n",
        "        out=self.linear(x)\n",
        "        return out"
      ]
    },
    {
      "cell_type": "code",
      "execution_count": 61,
      "metadata": {
        "id": "Jcys0t4QqYOI"
      },
      "outputs": [],
      "source": [
        "class Model(nn.Module):\n",
        "    def __init__(self, input_dimention, output_classes=1):\n",
        "        super(Model, self).__init__()\n",
        "        self.layer1 = LinearBNAC(input_dimention, 16)\n",
        "        self.layer2 = LinearBNAC(16, 32)\n",
        "        self.output = LinearBNAC(32, output_classes, is_output=True)\n",
        "    def forward(self, x):\n",
        "        x = self.layer1(x)\n",
        "        x = self.layer2(x)\n",
        "        x = self.output(x)\n",
        "        return x\n"
      ]
    },
    {
      "cell_type": "markdown",
      "metadata": {
        "id": "AIKNvNPIqYOJ"
      },
      "source": [
        "### 建立模型"
      ]
    },
    {
      "cell_type": "markdown",
      "metadata": {
        "id": "eo7NLQpMqYOK"
      },
      "source": [
        "* to(device) 代表轉成 cpu or gpu 模式 (gpu 模式下稱為 cuda)"
      ]
    },
    {
      "cell_type": "code",
      "execution_count": 62,
      "metadata": {
        "id": "FxGO9TbzqYOL"
      },
      "outputs": [],
      "source": [
        "model = Model(input_dimention=2000,output_classes=2).to(device)"
      ]
    },
    {
      "cell_type": "code",
      "execution_count": 63,
      "metadata": {
        "id": "Ts6za3kSqYOM",
        "outputId": "edaaa068-c05c-4d0c-80a2-4a4f28ed7853",
        "colab": {
          "base_uri": "https://localhost:8080/"
        }
      },
      "outputs": [
        {
          "output_type": "stream",
          "name": "stdout",
          "text": [
            "layer1.linear.0.weight torch.Size([16, 2000])\n",
            "layer1.linear.0.bias torch.Size([16])\n",
            "layer1.linear.1.weight torch.Size([16])\n",
            "layer1.linear.1.bias torch.Size([16])\n",
            "layer2.linear.0.weight torch.Size([32, 16])\n",
            "layer2.linear.0.bias torch.Size([32])\n",
            "layer2.linear.1.weight torch.Size([32])\n",
            "layer2.linear.1.bias torch.Size([32])\n",
            "output.linear.weight torch.Size([2, 32])\n",
            "output.linear.bias torch.Size([2])\n"
          ]
        }
      ],
      "source": [
        "for name,_ in model.named_parameters():\n",
        "    print(name, _.shape)"
      ]
    },
    {
      "cell_type": "code",
      "execution_count": 64,
      "metadata": {
        "id": "GkRzryUDqYON"
      },
      "outputs": [],
      "source": [
        "batch_size = 4\n",
        "input_features = 2000\n",
        "dummy_input = torch.randn(batch_size, input_features).to(device)\n"
      ]
    },
    {
      "cell_type": "code",
      "execution_count": 65,
      "metadata": {
        "id": "lLYGPAuvqYON",
        "outputId": "7540d879-7321-47dc-8b08-0f1b76c53862",
        "colab": {
          "base_uri": "https://localhost:8080/"
        }
      },
      "outputs": [
        {
          "output_type": "stream",
          "name": "stdout",
          "text": [
            "tensor([[ 0.5311, -0.1167],\n",
            "        [ 0.3287, -0.7853],\n",
            "        [-0.3630,  0.3439],\n",
            "        [-0.3881, -0.2727]], grad_fn=<AddmmBackward0>)\n"
          ]
        }
      ],
      "source": [
        "output = model(dummy_input)\n",
        "print(output)"
      ]
    },
    {
      "cell_type": "markdown",
      "metadata": {
        "id": "FACfwoYpqYOO"
      },
      "source": [
        "## Loss"
      ]
    },
    {
      "cell_type": "markdown",
      "metadata": {
        "id": "hCe1tUa8qYOP"
      },
      "source": [
        "#### classification"
      ]
    },
    {
      "cell_type": "code",
      "execution_count": 66,
      "metadata": {
        "id": "fry-o0pGqYOP"
      },
      "outputs": [],
      "source": [
        "from torch.nn import NLLLoss, LogSoftmax, CrossEntropyLoss"
      ]
    },
    {
      "cell_type": "code",
      "execution_count": 67,
      "metadata": {
        "id": "yaXu01xBqYOQ"
      },
      "outputs": [],
      "source": [
        "## CrossEntropyLoss = LogSoftmax + NLLLoss"
      ]
    },
    {
      "cell_type": "markdown",
      "metadata": {
        "id": "sbWda0hVqYOQ"
      },
      "source": [
        "* CrossEntropyLoss"
      ]
    },
    {
      "cell_type": "code",
      "execution_count": 68,
      "metadata": {
        "id": "KAwqB7OOqYOR"
      },
      "outputs": [],
      "source": [
        "criterion = CrossEntropyLoss()"
      ]
    },
    {
      "cell_type": "markdown",
      "metadata": {
        "id": "e9uHbZ3vqYOR"
      },
      "source": [
        "## optimizer"
      ]
    },
    {
      "cell_type": "code",
      "execution_count": 69,
      "metadata": {
        "id": "E5HuU36ZqYOS"
      },
      "outputs": [],
      "source": [
        "import torch.optim as optim"
      ]
    },
    {
      "cell_type": "markdown",
      "metadata": {
        "id": "oANKgNJzqYOS"
      },
      "source": [
        "* params : iterable of parameters\n",
        "* lr : learning rate\n",
        "* weight_decay : (L2) Regularization (正則化)"
      ]
    },
    {
      "cell_type": "code",
      "execution_count": 70,
      "metadata": {
        "id": "3u7Saf5hqYOT"
      },
      "outputs": [],
      "source": [
        "optimizer = optim.Adam(params=model.parameters(), lr=1e-3)"
      ]
    },
    {
      "cell_type": "markdown",
      "metadata": {
        "id": "HxTEYC4NqYOT"
      },
      "source": [
        "### 訓練前準備"
      ]
    },
    {
      "cell_type": "code",
      "execution_count": 71,
      "metadata": {
        "id": "DlrQfwVSqYOU"
      },
      "outputs": [],
      "source": [
        "x_train = torch.tensor(x_train, dtype=torch.float32).to(device)\n",
        "x_test = torch.tensor(x_test, dtype=torch.float32).to(device)\n",
        "\n",
        "y_train_numpy = y_train.copy()\n",
        "y_test_numpy = y_test.copy()\n",
        "\n",
        "y_train = torch.tensor(y_train, dtype=torch.long).to(device)\n",
        "y_test = torch.tensor(y_test, dtype=torch.long).to(device)"
      ]
    },
    {
      "cell_type": "code",
      "execution_count": 72,
      "metadata": {
        "id": "1SBkHZsUqYOV"
      },
      "outputs": [],
      "source": [
        "batch_size = 4\n",
        "epochs = 50\n",
        "softmax = nn.Softmax(-1)\n",
        "\n",
        "index = np.array([x for x in range(len(x_train))])"
      ]
    },
    {
      "cell_type": "markdown",
      "metadata": {
        "id": "ed0wziElqYOV"
      },
      "source": [
        "### 訓練"
      ]
    },
    {
      "cell_type": "code",
      "execution_count": 73,
      "metadata": {
        "id": "XzezIlt6qYOW",
        "outputId": "0b74672a-00e9-45a5-92c6-069d39e5361d",
        "colab": {
          "base_uri": "https://localhost:8080/"
        }
      },
      "outputs": [
        {
          "output_type": "stream",
          "name": "stdout",
          "text": [
            "epoch : 0\n",
            "目前 train loss : 0.41\n",
            "目前 test loss : 0.37\n",
            "目前 test accuracy : 0.85\n",
            "epoch : 2\n",
            "目前 train loss : 0.28\n",
            "目前 test loss : 0.32\n",
            "目前 test accuracy : 0.87\n",
            "epoch : 4\n",
            "目前 train loss : 0.24\n",
            "目前 test loss : 0.27\n",
            "目前 test accuracy : 0.89\n",
            "epoch : 6\n",
            "目前 train loss : 0.19\n",
            "目前 test loss : 0.26\n",
            "目前 test accuracy : 0.90\n",
            "epoch : 8\n",
            "目前 train loss : 0.18\n",
            "目前 test loss : 0.26\n",
            "目前 test accuracy : 0.90\n",
            "epoch : 10\n",
            "目前 train loss : 0.18\n",
            "目前 test loss : 0.24\n",
            "目前 test accuracy : 0.90\n",
            "epoch : 12\n",
            "目前 train loss : 0.17\n",
            "目前 test loss : 0.25\n",
            "目前 test accuracy : 0.90\n",
            "epoch : 14\n",
            "目前 train loss : 0.16\n",
            "目前 test loss : 0.27\n",
            "目前 test accuracy : 0.87\n",
            "epoch : 16\n",
            "目前 train loss : 0.16\n",
            "目前 test loss : 0.24\n",
            "目前 test accuracy : 0.91\n",
            "epoch : 18\n",
            "目前 train loss : 0.16\n",
            "目前 test loss : 0.25\n",
            "目前 test accuracy : 0.90\n",
            "epoch : 20\n",
            "目前 train loss : 0.16\n",
            "目前 test loss : 0.25\n",
            "目前 test accuracy : 0.91\n",
            "epoch : 22\n",
            "目前 train loss : 0.13\n",
            "目前 test loss : 0.25\n",
            "目前 test accuracy : 0.89\n",
            "epoch : 24\n",
            "目前 train loss : 0.14\n",
            "目前 test loss : 0.26\n",
            "目前 test accuracy : 0.90\n",
            "epoch : 26\n",
            "目前 train loss : 0.14\n",
            "目前 test loss : 0.26\n",
            "目前 test accuracy : 0.90\n",
            "epoch : 28\n",
            "目前 train loss : 0.13\n",
            "目前 test loss : 0.26\n",
            "目前 test accuracy : 0.89\n",
            "epoch : 30\n",
            "目前 train loss : 0.15\n",
            "目前 test loss : 0.27\n",
            "目前 test accuracy : 0.89\n",
            "epoch : 32\n",
            "目前 train loss : 0.12\n",
            "目前 test loss : 0.27\n",
            "目前 test accuracy : 0.90\n",
            "epoch : 34\n",
            "目前 train loss : 0.13\n",
            "目前 test loss : 0.28\n",
            "目前 test accuracy : 0.89\n",
            "epoch : 36\n",
            "目前 train loss : 0.12\n",
            "目前 test loss : 0.31\n",
            "目前 test accuracy : 0.89\n",
            "epoch : 38\n",
            "目前 train loss : 0.12\n",
            "目前 test loss : 0.28\n",
            "目前 test accuracy : 0.89\n",
            "epoch : 40\n",
            "目前 train loss : 0.10\n",
            "目前 test loss : 0.29\n",
            "目前 test accuracy : 0.90\n",
            "epoch : 42\n",
            "目前 train loss : 0.13\n",
            "目前 test loss : 0.30\n",
            "目前 test accuracy : 0.89\n",
            "epoch : 44\n",
            "目前 train loss : 0.14\n",
            "目前 test loss : 0.28\n",
            "目前 test accuracy : 0.90\n",
            "epoch : 46\n",
            "目前 train loss : 0.12\n",
            "目前 test loss : 0.28\n",
            "目前 test accuracy : 0.90\n",
            "epoch : 48\n",
            "目前 train loss : 0.11\n",
            "目前 test loss : 0.29\n",
            "目前 test accuracy : 0.89\n"
          ]
        }
      ],
      "source": [
        "train_loss_ = []\n",
        "test_loss_ = []\n",
        "train_accuracy_ = []\n",
        "test_accuracy_ = []\n",
        "for epoch in range(epochs):\n",
        "\n",
        "    np.random.shuffle(index)\n",
        "    x_train = x_train[index]\n",
        "    y_train = y_train[index]\n",
        "\n",
        "    loss_keeper = []\n",
        "    model.train()\n",
        "\n",
        "    for batch in range(len(x_train)//batch_size):\n",
        "        x = x_train[batch*batch_size : (batch+1)*batch_size,:]\n",
        "        y = y_train[batch*batch_size : (batch+1)*batch_size]\n",
        "        output = model(x)\n",
        "        loss_train = criterion(output, y)\n",
        "        loss_train.backward()\n",
        "        optimizer.step()\n",
        "        optimizer.zero_grad()\n",
        "\n",
        "        loss_train = loss_train.detach().cpu().item()\n",
        "        loss_keeper.append(loss_train)\n",
        "\n",
        "    model.eval()\n",
        "    output = model(x_test)\n",
        "    prediction = softmax(output)\n",
        "    prediction = torch.argmax(prediction,1).detach().cpu().numpy()\n",
        "    test_accuracy = metrics.accuracy_score(prediction, y_test_numpy)\n",
        "    loss_test = criterion(output, y_test)\n",
        "    loss_test = loss_test.detach().cpu().item()\n",
        "    train_loss_.append(np.mean(loss_keeper))\n",
        "    test_loss_.append(loss_test)\n",
        "\n",
        "    if epoch % 2 == 0:\n",
        "        print('epoch : {}'.format(epoch))\n",
        "        print('目前 train loss : {:.2f}'.format(np.mean(loss_keeper)))\n",
        "        print('目前 test loss : {:.2f}'.format(loss_test))\n",
        "        print('目前 test accuracy : {:.2f}'.format(test_accuracy))\n"
      ]
    },
    {
      "cell_type": "code",
      "execution_count": 74,
      "metadata": {
        "id": "1Na681K2qYOX",
        "outputId": "1f5265ed-e0c2-494e-b8a5-a2b733ad9b05",
        "colab": {
          "base_uri": "https://localhost:8080/"
        }
      },
      "outputs": [
        {
          "output_type": "stream",
          "name": "stdout",
          "text": [
            "              precision    recall  f1-score   support\n",
            "\n",
            "           0       0.95      0.93      0.94       582\n",
            "           1       0.65      0.72      0.68       103\n",
            "\n",
            "    accuracy                           0.90       685\n",
            "   macro avg       0.80      0.82      0.81       685\n",
            "weighted avg       0.90      0.90      0.90       685\n",
            "\n"
          ]
        }
      ],
      "source": [
        "print(classification_report(prediction, y_test_numpy))"
      ]
    },
    {
      "cell_type": "code",
      "execution_count": 75,
      "metadata": {
        "id": "mcG_5Q7OqYOY",
        "outputId": "6d0caa7f-d3de-4fb6-be7d-062a1e2f3278",
        "colab": {
          "base_uri": "https://localhost:8080/",
          "height": 432
        }
      },
      "outputs": [
        {
          "output_type": "display_data",
          "data": {
            "text/plain": [
              "<Figure size 640x480 with 1 Axes>"
            ],
            "image/png": "[encoded data removed]"
          },
          "metadata": {}
        }
      ],
      "source": [
        "import matplotlib.pyplot as plt\n",
        "%matplotlib inline\n",
        "plt.plot(np.arange(1, len(test_loss_)+1), test_loss_)\n",
        "plt.show()"
      ]
    },
    {
      "cell_type": "code",
      "execution_count": 76,
      "metadata": {
        "id": "7k9-DFMtqYOZ",
        "outputId": "41347f09-95b0-416c-ea02-1d2542ec2c75",
        "colab": {
          "base_uri": "https://localhost:8080/",
          "height": 430
        }
      },
      "outputs": [
        {
          "output_type": "display_data",
          "data": {
            "text/plain": [
              "<Figure size 640x480 with 1 Axes>"
            ],
            "image/png": "[encoded data removed]"
          },
          "metadata": {}
        }
      ],
      "source": [
        "import matplotlib.pyplot as plt\n",
        "%matplotlib inline\n",
        "plt.plot(np.arange(1, len(train_loss_)+1), train_loss_)\n",
        "plt.show()"
      ]
    },
    {
      "cell_type": "markdown",
      "metadata": {
        "id": "qoEL1zc4qYOr"
      },
      "source": [
        "---"
      ]
    },
    {
      "cell_type": "markdown",
      "metadata": {
        "id": "lykYK_G0qYOs"
      },
      "source": [
        "### 儲存跟載入 weight"
      ]
    },
    {
      "cell_type": "markdown",
      "metadata": {
        "id": "WgUF1PgZqYOs"
      },
      "source": [
        "### 儲存"
      ]
    },
    {
      "cell_type": "code",
      "execution_count": 78,
      "metadata": {
        "id": "2odwo0lWqYOt"
      },
      "outputs": [],
      "source": [
        "## 假設我們已經訓練好了模型\n",
        "## 可以存成 .pth or .pt\n",
        "saving_location = './model_save.pth'   # './' 代表目前所屬路徑\n",
        "torch.save({'epoch': epoch,\n",
        "            'model_state_dict': model.state_dict(),\n",
        "            'loss': loss_test\n",
        "           }, f=saving_location)"
      ]
    },
    {
      "cell_type": "markdown",
      "metadata": {
        "id": "ppFngAkhqYOt"
      },
      "source": [
        "### 載入"
      ]
    },
    {
      "cell_type": "code",
      "execution_count": 80,
      "metadata": {
        "id": "9jHWPcHlqYOu",
        "outputId": "8cb6d9fb-618c-431d-ee95-b763a2623f5e",
        "colab": {
          "base_uri": "https://localhost:8080/"
        }
      },
      "outputs": [
        {
          "output_type": "stream",
          "name": "stdout",
          "text": [
            "loading successfully...\n",
            "\n",
            "\n",
            "Is spam\n"
          ]
        },
        {
          "output_type": "stream",
          "name": "stderr",
          "text": [
            "<ipython-input-80-86735601b704>:4: FutureWarning: You are using `torch.load` with `weights_only=False` (the current default value), which uses the default pickle module implicitly. It is possible to construct malicious pickle data which will execute arbitrary code during unpickling (See https://github.com/pytorch/pytorch/blob/main/SECURITY.md#untrusted-models for more details). In a future release, the default value for `weights_only` will be flipped to `True`. This limits the functions that could be executed during unpickling. Arbitrary objects will no longer be allowed to be loaded via this mode unless they are explicitly allowlisted by the user via `torch.serialization.add_safe_globals`. We recommend you start setting `weights_only=True` for any use case where you don't have full control of the loaded file. Please open an issue on GitHub for any issues related to this experimental feature.\n",
            "  checkpoint = torch.load(saving_location, map_location=lambda storage, loc: storage)\n"
          ]
        }
      ],
      "source": [
        "model = Model(input_dimention=2000, output_classes=2).to(device)\n",
        "\n",
        "## 載入\n",
        "checkpoint = torch.load(saving_location, map_location=lambda storage, loc: storage)\n",
        "model.load_state_dict(checkpoint['model_state_dict'])\n",
        "print('loading successfully...')\n",
        "print('\\n')\n",
        "\n",
        "model.eval()\n",
        "\n",
        "test_content = ['Congratulations! You Get a Free Handheld Organizer!']\n",
        "test_content = clean_content(test_content)\n",
        "test_content = cv.transform(test_content).toarray()\n",
        "test_content = torch.tensor(test_content, dtype=torch.float32).to(device)\n",
        "output = model(test_content)\n",
        "prediction = softmax(output)\n",
        "prediction = torch.argmax(prediction,1).detach().cpu().numpy()[0]\n",
        "\n",
        "if prediction == 1:\n",
        "    print('Is spam')\n",
        "else:\n",
        "    print('Not spam')"
      ]
    }
  ],
  "metadata": {
    "colab": {
      "provenance": []
    },
    "kernelspec": {
      "display_name": "Python 3",
      "language": "python",
      "name": "python3"
    },
    "language_info": {
      "codemirror_mode": {
        "name": "ipython",
        "version": 3
      },
      "file_extension": ".py",
      "mimetype": "text/x-python",
      "name": "python",
      "nbconvert_exporter": "python",
      "pygments_lexer": "ipython3",
      "version": "3.7.4"
    }
  },
  "nbformat": 4,
  "nbformat_minor": 0
}