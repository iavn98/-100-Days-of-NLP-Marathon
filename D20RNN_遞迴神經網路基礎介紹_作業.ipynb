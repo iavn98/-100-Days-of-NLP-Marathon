{
  "nbformat": 4,
  "nbformat_minor": 0,
  "metadata": {
    "colab": {
      "provenance": []
    },
    "kernelspec": {
      "name": "python3",
      "display_name": "Python 3"
    }
  },
  "cells": [
    {
      "cell_type": "markdown",
      "metadata": {
        "id": "OzgeqHEvW1aB"
      },
      "source": [
        "# 作業: RNN 可以做什麼？"
      ]
    },
    {
      "cell_type": "markdown",
      "metadata": {
        "id": "Y9hsWc7TXDbU"
      },
      "source": [
        "## [作業目標]\n",
        "瞭解目前 RNN 的應用領域\n",
        "\n",
        "\n"
      ]
    },
    {
      "cell_type": "markdown",
      "metadata": {
        "id": "AU8gNF_nWjYJ"
      },
      "source": [
        "## [作業重點]\n",
        "查詢 RNN 的應用，瞭解 RNN 可以做些什麼事，瞭解一下涉及的領域應用背景"
      ]
    },
    {
      "cell_type": "markdown",
      "metadata": {
        "id": "QPYgcakvJzMk"
      },
      "source": [
        "瞭解三大深度學習網路的差異後，在課程內容提到的的下列應用：\n",
        "\n",
        "1. 正負電影評價識別\n",
        "2. 真假新聞的識別。\n",
        "3. 語言翻譯\n",
        "4. 文章生成\n",
        "5. 聊天機器人\n",
        "6. 股價預測\n",
        "\n",
        "請學員網路查查除了有沒有其他更有用、有趣的 RNN 應用?\n",
        "\n",
        "\n",
        "\n"
      ]
    },
    {
      "cell_type": "markdown",
      "source": [
        "1.語音合成：\n",
        "將文本轉換為語音，如 Text-to-Speech 系統中應用 RNN 生成自然的語音。\n",
        "\n",
        "2.文本生成：\n",
        "基於一段起始文本生成連貫的文本片段，用於自動文章撰寫或創作詩歌。\n",
        "\n",
        "3.情感分析：\n",
        "通過分析社交媒體帖子或評論來判斷文本的情緒，如正面、負面或中性。\n",
        "\n",
        "4.推薦系統：\n",
        "基於用戶歷史行為來推薦內容，如視頻、音樂和新聞推薦，提供個性化的用戶體驗。"
      ],
      "metadata": {
        "id": "5Hbk2Wdp6DmT"
      }
    }
  ]
}