{
  "cells": [
    {
      "cell_type": "code",
      "execution_count": 1,
      "metadata": {
        "id": "aVJkLGG-sZbH"
      },
      "outputs": [],
      "source": [
        "import torch\n",
        "import torch.nn as nn\n",
        "import torchvision.models as models\n",
        "import torch.nn.functional as F\n",
        "import numpy as np\n",
        "import torch.optim as optim\n"
      ]
    },
    {
      "cell_type": "markdown",
      "metadata": {
        "id": "Sxxj_TkWsZbJ"
      },
      "source": [
        "### 搭建模型"
      ]
    },
    {
      "cell_type": "code",
      "execution_count": 2,
      "metadata": {
        "id": "sJoFw43ssZbK"
      },
      "outputs": [],
      "source": [
        "class LinearBNAC(nn.Module):\n",
        "    def __init__(self, in_channels, out_channels, bias=True, dropout=0.3, is_output=False):\n",
        "        super(LinearBNAC, self).__init__()\n",
        "        if is_output and out_channels==1:\n",
        "            self.linear = nn.Sequential(\n",
        "                nn.Linear(in_channels, out_channels, bias=bias),\n",
        "                nn.Sigmoid()\n",
        "            )\n",
        "        elif is_output:\n",
        "            self.linear = nn.Sequential(\n",
        "                nn.Linear(in_channels, out_channels, bias=bias),\n",
        "                nn.Softmax(dim=1)\n",
        "            )\n",
        "        else:\n",
        "            self.linear = nn.Sequential(\n",
        "                nn.Linear(in_channels, out_channels, bias=bias),\n",
        "                nn.Dropout(dropout),\n",
        "                nn.BatchNorm1d(out_channels),\n",
        "                nn.LeakyReLU(inplace=True)\n",
        "            )\n",
        "\n",
        "    def forward(self, x):\n",
        "        out=self.linear(x)\n",
        "        return out"
      ]
    },
    {
      "cell_type": "code",
      "execution_count": 3,
      "metadata": {
        "id": "qZLgx1sAsZbL"
      },
      "outputs": [],
      "source": [
        "class Model(nn.Module):\n",
        "    def __init__(self, input_dimention, output_classes=1):\n",
        "        super(Model, self).__init__()\n",
        "        self.layer1 = LinearBNAC(input_dimention, 128)\n",
        "        self.layer2 = LinearBNAC(128, 64)\n",
        "        self.layer3 = LinearBNAC(64, 32)\n",
        "        self.output = LinearBNAC(32, output_classes, is_output=True)\n",
        "    def forward(self, x):\n",
        "        x = self.layer1(x)\n",
        "        x = self.layer2(x)\n",
        "        x = self.layer3(x)\n",
        "        x = self.output(x)\n",
        "        return x\n",
        ""
      ]
    },
    {
      "cell_type": "markdown",
      "metadata": {
        "id": "I0mnKcxCsZbL"
      },
      "source": [
        "### 準備輸入資料、優化器、標籤資料、模型輸出"
      ]
    },
    {
      "cell_type": "code",
      "execution_count": 4,
      "metadata": {
        "id": "ymELm29UsZbL"
      },
      "outputs": [],
      "source": [
        "model = Model(input_dimention=256,output_classes=10)\n",
        "optimizer =optim.Adam(params=model.parameters(), lr=1e-3, weight_decay=1e-3)"
      ]
    },
    {
      "cell_type": "code",
      "execution_count": 6,
      "metadata": {
        "id": "AhAIdWMksZbM"
      },
      "outputs": [],
      "source": [
        "batch_size = 4\n",
        "input_features = 256\n",
        "dummy_input = torch.randn(batch_size, input_features,)\n",
        "\n",
        "#target = torch.empty(4, dtype=torch.float).random_(10)\n",
        "target = torch.tensor([9., 5., 4., 4.], dtype=torch.long)"
      ]
    },
    {
      "cell_type": "code",
      "execution_count": 7,
      "metadata": {
        "colab": {
          "base_uri": "https://localhost:8080/"
        },
        "id": "SJ74bxefsZbM",
        "outputId": "5d8b60d6-2fc7-4873-ee79-837edab41373"
      },
      "outputs": [
        {
          "output_type": "stream",
          "name": "stdout",
          "text": [
            "tensor([[0.1126, 0.1762, 0.1937, 0.0973, 0.0530, 0.0675, 0.0838, 0.0812, 0.0513,\n",
            "         0.0833],\n",
            "        [0.0718, 0.0922, 0.2005, 0.0962, 0.1334, 0.0883, 0.0883, 0.0764, 0.0650,\n",
            "         0.0879],\n",
            "        [0.1173, 0.1443, 0.1635, 0.0412, 0.0658, 0.0849, 0.0960, 0.0646, 0.1332,\n",
            "         0.0892],\n",
            "        [0.0841, 0.1182, 0.1347, 0.1095, 0.0578, 0.1578, 0.0777, 0.0933, 0.0890,\n",
            "         0.0778]], grad_fn=<SoftmaxBackward0>)\n"
          ]
        }
      ],
      "source": [
        "output = model(dummy_input)\n",
        "print(output)"
      ]
    },
    {
      "cell_type": "markdown",
      "metadata": {
        "id": "2JWV1y69sZbM"
      },
      "source": [
        "### 計算 CrossEntropy Loss\n",
        "* 請注意哪一個 Loss最適合：我們已經使用 softmax\n",
        "* 因為我們有使用dropout，並隨機產生dummy_input，所以各為學員得到的值會與解答不同，然而步驟原理需要相同"
      ]
    },
    {
      "cell_type": "code",
      "execution_count": 8,
      "metadata": {
        "id": "bNmN-5SssZbN"
      },
      "outputs": [],
      "source": [
        "from torch.nn import NLLLoss, LogSoftmax, CrossEntropyLoss"
      ]
    },
    {
      "cell_type": "code",
      "execution_count": 9,
      "metadata": {
        "id": "l7GqAJwosZbN"
      },
      "outputs": [],
      "source": [
        "criterion = NLLLoss()"
      ]
    },
    {
      "cell_type": "code",
      "execution_count": 10,
      "metadata": {
        "id": "yQHugdlLsZbN"
      },
      "outputs": [],
      "source": [
        "loss = criterion(torch.log(output), target)"
      ]
    },
    {
      "cell_type": "markdown",
      "metadata": {
        "id": "WHR2zVNQsZbN"
      },
      "source": [
        "### 完成back propagation並更新梯度"
      ]
    },
    {
      "cell_type": "code",
      "execution_count": 11,
      "metadata": {
        "id": "Zrb_V-tCsZbN"
      },
      "outputs": [],
      "source": [
        "loss.backward()"
      ]
    },
    {
      "cell_type": "code",
      "execution_count": 12,
      "metadata": {
        "colab": {
          "base_uri": "https://localhost:8080/"
        },
        "id": "IsW2O0fvsZbN",
        "outputId": "e9a1fb42-824f-4715-fb5d-17fc45a696ff"
      },
      "outputs": [
        {
          "output_type": "stream",
          "name": "stdout",
          "text": [
            "weight : Parameter containing:\n",
            "tensor([[ 0.0499,  0.0043, -0.0200,  ...,  0.0394,  0.0335, -0.0498],\n",
            "        [-0.0577, -0.0111,  0.0504,  ..., -0.0484, -0.0587, -0.0391],\n",
            "        [-0.0326,  0.0474,  0.0052,  ...,  0.0447,  0.0226, -0.0352],\n",
            "        ...,\n",
            "        [ 0.0560,  0.0033,  0.0624,  ...,  0.0311, -0.0291,  0.0279],\n",
            "        [-0.0561,  0.0140, -0.0579,  ..., -0.0477,  0.0131, -0.0527],\n",
            "        [-0.0049, -0.0284,  0.0386,  ..., -0.0473, -0.0161,  0.0452]],\n",
            "       requires_grad=True)\n",
            "\n",
            "\n",
            "grad : tensor([[-4.3875e-04,  3.1590e-04,  1.4305e-03,  ...,  1.1045e-03,\n",
            "          1.2792e-03,  1.0117e-03],\n",
            "        [ 2.7689e-02,  1.4445e-02,  5.9352e-02,  ...,  1.7079e-01,\n",
            "          2.2467e-01, -9.1824e-02],\n",
            "        [-9.1062e-03,  2.7616e-02,  4.3894e-03,  ...,  3.9027e-02,\n",
            "          7.5643e-03, -4.6782e-03],\n",
            "        ...,\n",
            "        [ 3.0281e-03, -4.4459e-03, -2.6227e-03,  ..., -5.0397e-03,\n",
            "         -3.3687e-04, -2.9794e-03],\n",
            "        [ 5.6751e-03, -3.7922e-01,  2.6699e-02,  ..., -7.0738e-01,\n",
            "         -2.9542e-01,  3.5674e-01],\n",
            "        [-1.4159e-03,  3.6668e-02, -2.2947e-03,  ...,  4.6138e-02,\n",
            "         -1.4689e-02, -7.8310e-03]])\n"
          ]
        }
      ],
      "source": [
        "print('weight : {}'.format(model.layer1.linear[0].weight))\n",
        "print('\\n')\n",
        "print('grad : {}'.format(model.layer1.linear[0].weight.grad))"
      ]
    },
    {
      "cell_type": "code",
      "execution_count": 13,
      "metadata": {
        "id": "_Gl8nC9GsZbO"
      },
      "outputs": [],
      "source": [
        "optimizer.step()"
      ]
    },
    {
      "cell_type": "code",
      "execution_count": 14,
      "metadata": {
        "colab": {
          "base_uri": "https://localhost:8080/"
        },
        "id": "SVHXf19ZsZbO",
        "outputId": "20c82cb6-a2f3-4b9e-8c18-d16762179266"
      },
      "outputs": [
        {
          "output_type": "stream",
          "name": "stdout",
          "text": [
            "weight : Parameter containing:\n",
            "tensor([[ 0.0509,  0.0033, -0.0210,  ...,  0.0384,  0.0325, -0.0508],\n",
            "        [-0.0587, -0.0121,  0.0494,  ..., -0.0494, -0.0597, -0.0381],\n",
            "        [-0.0316,  0.0464,  0.0042,  ...,  0.0437,  0.0216, -0.0342],\n",
            "        ...,\n",
            "        [ 0.0550,  0.0043,  0.0634,  ...,  0.0321, -0.0281,  0.0289],\n",
            "        [-0.0571,  0.0150, -0.0589,  ..., -0.0467,  0.0141, -0.0537],\n",
            "        [-0.0039, -0.0294,  0.0396,  ..., -0.0483, -0.0151,  0.0462]],\n",
            "       requires_grad=True)\n",
            "\n",
            "\n",
            "grad : tensor([[-4.3875e-04,  3.1590e-04,  1.4305e-03,  ...,  1.1045e-03,\n",
            "          1.2792e-03,  1.0117e-03],\n",
            "        [ 2.7689e-02,  1.4445e-02,  5.9352e-02,  ...,  1.7079e-01,\n",
            "          2.2467e-01, -9.1824e-02],\n",
            "        [-9.1062e-03,  2.7616e-02,  4.3894e-03,  ...,  3.9027e-02,\n",
            "          7.5643e-03, -4.6782e-03],\n",
            "        ...,\n",
            "        [ 3.0281e-03, -4.4459e-03, -2.6227e-03,  ..., -5.0397e-03,\n",
            "         -3.3687e-04, -2.9794e-03],\n",
            "        [ 5.6751e-03, -3.7922e-01,  2.6699e-02,  ..., -7.0738e-01,\n",
            "         -2.9542e-01,  3.5674e-01],\n",
            "        [-1.4159e-03,  3.6668e-02, -2.2947e-03,  ...,  4.6138e-02,\n",
            "         -1.4689e-02, -7.8310e-03]])\n"
          ]
        }
      ],
      "source": [
        "print('weight : {}'.format(model.layer1.linear[0].weight))\n",
        "print('\\n')\n",
        "print('grad : {}'.format(model.layer1.linear[0].weight.grad))"
      ]
    },
    {
      "cell_type": "markdown",
      "metadata": {
        "id": "an-uqigZsZbO"
      },
      "source": [
        "### 清空 gradient"
      ]
    },
    {
      "cell_type": "code",
      "execution_count": 15,
      "metadata": {
        "id": "g2r_J4hhsZbO"
      },
      "outputs": [],
      "source": [
        "optimizer.zero_grad()"
      ]
    },
    {
      "cell_type": "code",
      "execution_count": 16,
      "metadata": {
        "colab": {
          "base_uri": "https://localhost:8080/"
        },
        "id": "DSqW5S-rsZbO",
        "outputId": "800f0718-9cb1-4879-8105-a63f9d98e196"
      },
      "outputs": [
        {
          "output_type": "stream",
          "name": "stdout",
          "text": [
            "weight : Parameter containing:\n",
            "tensor([[ 0.0509,  0.0033, -0.0210,  ...,  0.0384,  0.0325, -0.0508],\n",
            "        [-0.0587, -0.0121,  0.0494,  ..., -0.0494, -0.0597, -0.0381],\n",
            "        [-0.0316,  0.0464,  0.0042,  ...,  0.0437,  0.0216, -0.0342],\n",
            "        ...,\n",
            "        [ 0.0550,  0.0043,  0.0634,  ...,  0.0321, -0.0281,  0.0289],\n",
            "        [-0.0571,  0.0150, -0.0589,  ..., -0.0467,  0.0141, -0.0537],\n",
            "        [-0.0039, -0.0294,  0.0396,  ..., -0.0483, -0.0151,  0.0462]],\n",
            "       requires_grad=True)\n",
            "\n",
            "\n",
            "grad : None\n"
          ]
        }
      ],
      "source": [
        "print('weight : {}'.format(model.layer1.linear[0].weight))\n",
        "print('\\n')\n",
        "print('grad : {}'.format(model.layer1.linear[0].weight.grad))"
      ]
    }
  ],
  "metadata": {
    "kernelspec": {
      "display_name": "Python 3",
      "language": "python",
      "name": "python3"
    },
    "language_info": {
      "codemirror_mode": {
        "name": "ipython",
        "version": 3
      },
      "file_extension": ".py",
      "mimetype": "text/x-python",
      "name": "python",
      "nbconvert_exporter": "python",
      "pygments_lexer": "ipython3",
      "version": "3.7.4"
    },
    "colab": {
      "provenance": []
    }
  },
  "nbformat": 4,
  "nbformat_minor": 0
}