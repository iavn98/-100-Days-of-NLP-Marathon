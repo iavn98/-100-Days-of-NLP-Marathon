{
 "cells": [
  {
   "cell_type": "markdown",
   "metadata": {
    "id": "q0y1IFdUh5zs"
   },
   "source": [
    "#  作業: 使用 LSTM 做文本情感分析"
   ]
  },
  {
   "cell_type": "markdown",
   "metadata": {
    "id": "5d9-7dY6rjbe"
   },
   "source": [
    "##[作業目標]\n",
    "\n",
    "*   使用 Pytorch 提供的 LSTM 方法來做情感(情緒)的分析\n",
    "*   期望達到不錯的準確度，84% 以上"
   ]
  },
  {
   "cell_type": "markdown",
   "metadata": {
    "id": "0d6gKxOKETRU"
   },
   "source": [
    "##[作業重點]\n",
    "\n",
    "*   學會使用 torchtext dataset 來使用 IMDB 資料集\n",
    "*   搭建 LSTM 網路\n",
    "\n"
   ]
  },
  {
   "cell_type": "markdown",
   "metadata": {
    "id": "WtKPzAnqh5zs"
   },
   "source": [
    "## 準備資料\n",
    "\n",
    "torchtext 包含以下 components：\n",
    "\n",
    "Field : 主要包含以下數據預處理的配置信息：指定分詞方法、是否轉成小寫、起始符號、以及字典等等。\n",
    "\n",
    "Dataset : 用於下載數據，也提供 splits 方法可以同時下載訓練資料、驗證資料和測試資料。\n",
    "\n",
    "Iterator : 數據讀取的迭代器，可以支持 batch\n",
    "\n",
    "我們定義 SEED、TEXT 和 LABEL 三個變數來隨機把資料集分割成 train/valid/test 三個資料集。\n",
    "\n"
   ]
  },
  {
   "cell_type": "code",
   "execution_count": 1,
   "metadata": {},
   "outputs": [
    {
     "name": "stdout",
     "output_type": "stream",
     "text": [
      "CUDA available: True\n",
      "GPU device name: NVIDIA GeForce RTX 3090\n",
      "CUDA version: 10.2\n",
      "PyTorch version: 1.8.0\n",
      "Python version: 3.8.20 | packaged by conda-forge | (default, Sep 30 2024, 17:44:03) [MSC v.1929 64 bit (AMD64)]\n",
      "torchtext version: 0.6.0\n"
     ]
    },
    {
     "name": "stderr",
     "output_type": "stream",
     "text": [
      "C:\\Users\\iavn98\\anaconda3\\envs\\myenv\\lib\\site-packages\\torch\\cuda\\__init__.py:104: UserWarning: \n",
      "NVIDIA GeForce RTX 3090 with CUDA capability sm_86 is not compatible with the current PyTorch installation.\n",
      "The current PyTorch install supports CUDA capabilities sm_37 sm_50 sm_60 sm_61 sm_70 sm_75 compute_37.\n",
      "If you want to use the NVIDIA GeForce RTX 3090 GPU with PyTorch, please check the instructions at https://pytorch.org/get-started/locally/\n",
      "\n",
      "  warnings.warn(incompatible_device_warn.format(device_name, capability, \" \".join(arch_list), device_name))\n"
     ]
    }
   ],
   "source": [
    "import sys\n",
    "import torch\n",
    "import torchtext\n",
    "\n",
    "# 檢查 PyTorch 是否可以使用 CUDA\n",
    "print(\"CUDA available:\", torch.cuda.is_available())\n",
    "\n",
    "# 如果可用，列出 CUDA 設備的詳細信息\n",
    "if torch.cuda.is_available():\n",
    "    print(\"GPU device name:\", torch.cuda.get_device_name(0))\n",
    "    print(\"CUDA version:\", torch.version.cuda)\n",
    "    print(\"PyTorch version:\", torch.__version__)\n",
    "print(\"Python version:\", sys.version)\n",
    "print(\"torchtext version:\", torchtext.__version__)"
   ]
  },
  {
   "cell_type": "code",
   "execution_count": 6,
   "metadata": {},
   "outputs": [
    {
     "name": "stdout",
     "output_type": "stream",
     "text": [
      "Collecting spacy==3.2.4\n",
      "  Downloading spacy-3.2.4-cp38-cp38-win_amd64.whl.metadata (23 kB)\n",
      "Collecting spacy-legacy<3.1.0,>=3.0.8 (from spacy==3.2.4)\n",
      "  Downloading spacy_legacy-3.0.12-py2.py3-none-any.whl.metadata (2.8 kB)\n",
      "Collecting spacy-loggers<2.0.0,>=1.0.0 (from spacy==3.2.4)\n",
      "  Downloading spacy_loggers-1.0.5-py3-none-any.whl.metadata (23 kB)\n",
      "Collecting murmurhash<1.1.0,>=0.28.0 (from spacy==3.2.4)\n",
      "  Using cached murmurhash-1.0.10-cp38-cp38-win_amd64.whl.metadata (2.0 kB)\n",
      "Collecting cymem<2.1.0,>=2.0.2 (from spacy==3.2.4)\n",
      "  Using cached cymem-2.0.8-cp38-cp38-win_amd64.whl.metadata (8.6 kB)\n",
      "Collecting preshed<3.1.0,>=3.0.2 (from spacy==3.2.4)\n",
      "  Using cached preshed-3.0.9-cp38-cp38-win_amd64.whl.metadata (2.2 kB)\n",
      "Collecting thinc<8.1.0,>=8.0.12 (from spacy==3.2.4)\n",
      "  Downloading thinc-8.0.17-cp38-cp38-win_amd64.whl.metadata (14 kB)\n",
      "Collecting blis<0.8.0,>=0.4.0 (from spacy==3.2.4)\n",
      "  Downloading blis-0.7.11-cp38-cp38-win_amd64.whl.metadata (7.6 kB)\n",
      "Collecting wasabi<1.1.0,>=0.8.1 (from spacy==3.2.4)\n",
      "  Downloading wasabi-0.10.1-py3-none-any.whl.metadata (28 kB)\n",
      "Collecting srsly<3.0.0,>=2.4.1 (from spacy==3.2.4)\n",
      "  Downloading srsly-2.4.8-cp38-cp38-win_amd64.whl.metadata (20 kB)\n",
      "Collecting catalogue<2.1.0,>=2.0.6 (from spacy==3.2.4)\n",
      "  Downloading catalogue-2.0.10-py3-none-any.whl.metadata (14 kB)\n",
      "Collecting typer<0.5.0,>=0.3.0 (from spacy==3.2.4)\n",
      "  Downloading typer-0.4.2-py3-none-any.whl.metadata (12 kB)\n",
      "Collecting click<8.1.0 (from spacy==3.2.4)\n",
      "  Downloading click-8.0.4-py3-none-any.whl.metadata (3.2 kB)\n",
      "Collecting pathy>=0.3.5 (from spacy==3.2.4)\n",
      "  Downloading pathy-0.11.0-py3-none-any.whl.metadata (16 kB)\n",
      "Requirement already satisfied: tqdm<5.0.0,>=4.38.0 in c:\\users\\iavn98\\anaconda3\\envs\\myenv\\lib\\site-packages (from spacy==3.2.4) (4.66.6)\n",
      "Requirement already satisfied: numpy>=1.15.0 in c:\\users\\iavn98\\anaconda3\\envs\\myenv\\lib\\site-packages (from spacy==3.2.4) (1.24.4)\n",
      "Requirement already satisfied: requests<3.0.0,>=2.13.0 in c:\\users\\iavn98\\anaconda3\\envs\\myenv\\lib\\site-packages (from spacy==3.2.4) (2.32.3)\n",
      "Collecting pydantic!=1.8,!=1.8.1,<1.9.0,>=1.7.4 (from spacy==3.2.4)\n",
      "  Downloading pydantic-1.8.2-cp38-cp38-win_amd64.whl.metadata (103 kB)\n",
      "Requirement already satisfied: jinja2 in c:\\users\\iavn98\\anaconda3\\envs\\myenv\\lib\\site-packages (from spacy==3.2.4) (3.1.4)\n",
      "Requirement already satisfied: setuptools in c:\\users\\iavn98\\anaconda3\\envs\\myenv\\lib\\site-packages (from spacy==3.2.4) (75.3.0)\n",
      "Requirement already satisfied: packaging>=20.0 in c:\\users\\iavn98\\anaconda3\\envs\\myenv\\lib\\site-packages (from spacy==3.2.4) (24.1)\n",
      "Collecting langcodes<4.0.0,>=3.2.0 (from spacy==3.2.4)\n",
      "  Downloading langcodes-3.4.1-py3-none-any.whl.metadata (29 kB)\n",
      "Requirement already satisfied: colorama in c:\\users\\iavn98\\anaconda3\\envs\\myenv\\lib\\site-packages (from click<8.1.0->spacy==3.2.4) (0.4.6)\n",
      "Collecting language-data>=1.2 (from langcodes<4.0.0,>=3.2.0->spacy==3.2.4)\n",
      "  Downloading language_data-1.2.0-py3-none-any.whl.metadata (4.3 kB)\n",
      "Collecting smart-open<7.0.0,>=5.2.1 (from pathy>=0.3.5->spacy==3.2.4)\n",
      "  Downloading smart_open-6.4.0-py3-none-any.whl.metadata (21 kB)\n",
      "Collecting pathlib-abc==0.1.1 (from pathy>=0.3.5->spacy==3.2.4)\n",
      "  Downloading pathlib_abc-0.1.1-py3-none-any.whl.metadata (18 kB)\n",
      "Requirement already satisfied: typing-extensions>=3.7.4.3 in c:\\users\\iavn98\\anaconda3\\envs\\myenv\\lib\\site-packages (from pydantic!=1.8,!=1.8.1,<1.9.0,>=1.7.4->spacy==3.2.4) (4.12.2)\n",
      "Requirement already satisfied: charset-normalizer<4,>=2 in c:\\users\\iavn98\\anaconda3\\envs\\myenv\\lib\\site-packages (from requests<3.0.0,>=2.13.0->spacy==3.2.4) (3.4.0)\n",
      "Requirement already satisfied: idna<4,>=2.5 in c:\\users\\iavn98\\anaconda3\\envs\\myenv\\lib\\site-packages (from requests<3.0.0,>=2.13.0->spacy==3.2.4) (3.10)\n",
      "Requirement already satisfied: urllib3<3,>=1.21.1 in c:\\users\\iavn98\\anaconda3\\envs\\myenv\\lib\\site-packages (from requests<3.0.0,>=2.13.0->spacy==3.2.4) (2.2.3)\n",
      "Requirement already satisfied: certifi>=2017.4.17 in c:\\users\\iavn98\\anaconda3\\envs\\myenv\\lib\\site-packages (from requests<3.0.0,>=2.13.0->spacy==3.2.4) (2024.8.30)\n",
      "Requirement already satisfied: MarkupSafe>=2.0 in c:\\users\\iavn98\\anaconda3\\envs\\myenv\\lib\\site-packages (from jinja2->spacy==3.2.4) (2.1.5)\n",
      "Collecting marisa-trie>=0.7.7 (from language-data>=1.2->langcodes<4.0.0,>=3.2.0->spacy==3.2.4)\n",
      "  Downloading marisa_trie-1.2.1-cp38-cp38-win_amd64.whl.metadata (9.3 kB)\n",
      "Downloading spacy-3.2.4-cp38-cp38-win_amd64.whl (11.6 MB)\n",
      "   ---------------------------------------- 0.0/11.6 MB ? eta -:--:--\n",
      "   - -------------------------------------- 0.5/11.6 MB 3.4 MB/s eta 0:00:04\n",
      "   --- ------------------------------------ 1.0/11.6 MB 3.9 MB/s eta 0:00:03\n",
      "   ----- ---------------------------------- 1.6/11.6 MB 2.5 MB/s eta 0:00:04\n",
      "   --------- ------------------------------ 2.6/11.6 MB 3.2 MB/s eta 0:00:03\n",
      "   ----------- ---------------------------- 3.4/11.6 MB 3.2 MB/s eta 0:00:03\n",
      "   --------------- ------------------------ 4.5/11.6 MB 3.6 MB/s eta 0:00:03\n",
      "   ------------------ --------------------- 5.5/11.6 MB 3.8 MB/s eta 0:00:02\n",
      "   ---------------------- ----------------- 6.6/11.6 MB 3.9 MB/s eta 0:00:02\n",
      "   ------------------------- -------------- 7.3/11.6 MB 3.9 MB/s eta 0:00:02\n",
      "   --------------------------- ------------ 8.1/11.6 MB 3.9 MB/s eta 0:00:01\n",
      "   ------------------------------ --------- 8.9/11.6 MB 3.9 MB/s eta 0:00:01\n",
      "   -------------------------------- ------- 9.4/11.6 MB 3.9 MB/s eta 0:00:01\n",
      "   -------------------------------- ------- 9.4/11.6 MB 3.9 MB/s eta 0:00:01\n",
      "   -------------------------------- ------- 9.4/11.6 MB 3.9 MB/s eta 0:00:01\n",
      "   -------------------------------- ------- 9.4/11.6 MB 3.9 MB/s eta 0:00:01\n",
      "   -------------------------------- ------- 9.4/11.6 MB 3.9 MB/s eta 0:00:01\n",
      "   ----------------------------------- ---- 10.2/11.6 MB 2.9 MB/s eta 0:00:01\n",
      "   ------------------------------------- -- 11.0/11.6 MB 2.9 MB/s eta 0:00:01\n",
      "   ---------------------------------------- 11.6/11.6 MB 3.0 MB/s eta 0:00:00\n",
      "Downloading blis-0.7.11-cp38-cp38-win_amd64.whl (6.6 MB)\n",
      "   ---------------------------------------- 0.0/6.6 MB ? eta -:--:--\n",
      "   ---- ----------------------------------- 0.8/6.6 MB 3.7 MB/s eta 0:00:02\n",
      "   --------- ------------------------------ 1.6/6.6 MB 3.8 MB/s eta 0:00:02\n",
      "   -------------- ------------------------- 2.4/6.6 MB 3.8 MB/s eta 0:00:02\n",
      "   -------------------- ------------------- 3.4/6.6 MB 3.9 MB/s eta 0:00:01\n",
      "   ------------------------- -------------- 4.2/6.6 MB 4.0 MB/s eta 0:00:01\n",
      "   ------------------------------ --------- 5.0/6.6 MB 4.0 MB/s eta 0:00:01\n",
      "   ---------------------------------- ----- 5.8/6.6 MB 4.0 MB/s eta 0:00:01\n",
      "   ---------------------------------------  6.6/6.6 MB 3.9 MB/s eta 0:00:01\n",
      "   ---------------------------------------- 6.6/6.6 MB 3.9 MB/s eta 0:00:00\n",
      "Downloading catalogue-2.0.10-py3-none-any.whl (17 kB)\n",
      "Downloading click-8.0.4-py3-none-any.whl (97 kB)\n",
      "Downloading cymem-2.0.8-cp38-cp38-win_amd64.whl (39 kB)\n",
      "Downloading langcodes-3.4.1-py3-none-any.whl (182 kB)\n",
      "Downloading murmurhash-1.0.10-cp38-cp38-win_amd64.whl (25 kB)\n",
      "Downloading pathy-0.11.0-py3-none-any.whl (47 kB)\n",
      "Downloading pathlib_abc-0.1.1-py3-none-any.whl (23 kB)\n",
      "Downloading preshed-3.0.9-cp38-cp38-win_amd64.whl (122 kB)\n",
      "Downloading pydantic-1.8.2-cp38-cp38-win_amd64.whl (2.0 MB)\n",
      "   ---------------------------------------- 0.0/2.0 MB ? eta -:--:--\n",
      "   --------------- ------------------------ 0.8/2.0 MB 4.2 MB/s eta 0:00:01\n",
      "   ------------------------------- -------- 1.6/2.0 MB 4.2 MB/s eta 0:00:01\n",
      "   ---------------------------------------- 2.0/2.0 MB 4.1 MB/s eta 0:00:00\n",
      "Downloading spacy_legacy-3.0.12-py2.py3-none-any.whl (29 kB)\n",
      "Downloading spacy_loggers-1.0.5-py3-none-any.whl (22 kB)\n",
      "Downloading srsly-2.4.8-cp38-cp38-win_amd64.whl (483 kB)\n",
      "Downloading thinc-8.0.17-cp38-cp38-win_amd64.whl (1.1 MB)\n",
      "   ---------------------------------------- 0.0/1.1 MB ? eta -:--:--\n",
      "   ----------------------------- ---------- 0.8/1.1 MB 3.7 MB/s eta 0:00:01\n",
      "   ---------------------------------------- 1.1/1.1 MB 3.6 MB/s eta 0:00:00\n",
      "Downloading typer-0.4.2-py3-none-any.whl (27 kB)\n",
      "Downloading wasabi-0.10.1-py3-none-any.whl (26 kB)\n",
      "Downloading language_data-1.2.0-py3-none-any.whl (5.4 MB)\n",
      "   ---------------------------------------- 0.0/5.4 MB ? eta -:--:--\n",
      "   ----- ---------------------------------- 0.8/5.4 MB 4.2 MB/s eta 0:00:02\n",
      "   ----------- ---------------------------- 1.6/5.4 MB 4.0 MB/s eta 0:00:01\n",
      "   ----------------- ---------------------- 2.4/5.4 MB 4.1 MB/s eta 0:00:01\n",
      "   ----------------------- ---------------- 3.1/5.4 MB 4.0 MB/s eta 0:00:01\n",
      "   ----------------------------- ---------- 3.9/5.4 MB 4.0 MB/s eta 0:00:01\n",
      "   ------------------------------------ --- 5.0/5.4 MB 4.0 MB/s eta 0:00:01\n",
      "   ---------------------------------------- 5.4/5.4 MB 4.0 MB/s eta 0:00:00\n",
      "Downloading smart_open-6.4.0-py3-none-any.whl (57 kB)\n",
      "Downloading marisa_trie-1.2.1-cp38-cp38-win_amd64.whl (152 kB)\n",
      "Installing collected packages: wasabi, cymem, spacy-loggers, spacy-legacy, smart-open, pydantic, pathlib-abc, murmurhash, marisa-trie, click, catalogue, blis, typer, srsly, preshed, language-data, thinc, pathy, langcodes, spacy\n",
      "Successfully installed blis-0.7.11 catalogue-2.0.10 click-8.0.4 cymem-2.0.8 langcodes-3.4.1 language-data-1.2.0 marisa-trie-1.2.1 murmurhash-1.0.10 pathlib-abc-0.1.1 pathy-0.11.0 preshed-3.0.9 pydantic-1.8.2 smart-open-6.4.0 spacy-3.2.4 spacy-legacy-3.0.12 spacy-loggers-1.0.5 srsly-2.4.8 thinc-8.0.17 typer-0.4.2 wasabi-0.10.1\n"
     ]
    }
   ],
   "source": [
    "!pip install spacy==3.2.4"
   ]
  },
  {
   "cell_type": "code",
   "execution_count": 9,
   "metadata": {},
   "outputs": [
    {
     "name": "stdout",
     "output_type": "stream",
     "text": [
      "Collecting thinc==8.0.13\n",
      "  Downloading thinc-8.0.13-cp38-cp38-win_amd64.whl.metadata (14 kB)\n",
      "Requirement already satisfied: blis<0.8.0,>=0.4.0 in c:\\users\\iavn98\\anaconda3\\envs\\myenv\\lib\\site-packages (from thinc==8.0.13) (0.7.11)\n",
      "Requirement already satisfied: murmurhash<1.1.0,>=0.28.0 in c:\\users\\iavn98\\anaconda3\\envs\\myenv\\lib\\site-packages (from thinc==8.0.13) (1.0.10)\n",
      "Requirement already satisfied: cymem<2.1.0,>=2.0.2 in c:\\users\\iavn98\\anaconda3\\envs\\myenv\\lib\\site-packages (from thinc==8.0.13) (2.0.8)\n",
      "Requirement already satisfied: preshed<3.1.0,>=3.0.2 in c:\\users\\iavn98\\anaconda3\\envs\\myenv\\lib\\site-packages (from thinc==8.0.13) (3.0.9)\n",
      "Requirement already satisfied: wasabi<1.1.0,>=0.8.1 in c:\\users\\iavn98\\anaconda3\\envs\\myenv\\lib\\site-packages (from thinc==8.0.13) (0.10.1)\n",
      "Requirement already satisfied: srsly<3.0.0,>=2.4.0 in c:\\users\\iavn98\\anaconda3\\envs\\myenv\\lib\\site-packages (from thinc==8.0.13) (2.4.8)\n",
      "Requirement already satisfied: catalogue<2.1.0,>=2.0.4 in c:\\users\\iavn98\\anaconda3\\envs\\myenv\\lib\\site-packages (from thinc==8.0.13) (2.0.10)\n",
      "Requirement already satisfied: setuptools in c:\\users\\iavn98\\anaconda3\\envs\\myenv\\lib\\site-packages (from thinc==8.0.13) (75.3.0)\n",
      "Requirement already satisfied: numpy>=1.15.0 in c:\\users\\iavn98\\anaconda3\\envs\\myenv\\lib\\site-packages (from thinc==8.0.13) (1.24.4)\n",
      "Requirement already satisfied: pydantic!=1.8,!=1.8.1,<1.9.0,>=1.7.4 in c:\\users\\iavn98\\anaconda3\\envs\\myenv\\lib\\site-packages (from thinc==8.0.13) (1.7.4)\n",
      "Downloading thinc-8.0.13-cp38-cp38-win_amd64.whl (1.0 MB)\n",
      "   ---------------------------------------- 0.0/1.0 MB ? eta -:--:--\n",
      "   ---------- ----------------------------- 0.3/1.0 MB ? eta -:--:--\n",
      "   ------------------------------ --------- 0.8/1.0 MB 3.4 MB/s eta 0:00:01\n",
      "   ---------------------------------------- 1.0/1.0 MB 3.3 MB/s eta 0:00:00\n",
      "Installing collected packages: thinc\n",
      "  Attempting uninstall: thinc\n",
      "    Found existing installation: thinc 8.0.0\n",
      "    Uninstalling thinc-8.0.0:\n",
      "      Successfully uninstalled thinc-8.0.0\n",
      "Successfully installed thinc-8.0.13\n"
     ]
    }
   ],
   "source": [
    "!pip install thinc==8.0.13"
   ]
  },
  {
   "cell_type": "code",
   "execution_count": 10,
   "metadata": {},
   "outputs": [
    {
     "name": "stdout",
     "output_type": "stream",
     "text": [
      "Collecting en-core-web-sm==3.2.0\n",
      "  Downloading https://github.com/explosion/spacy-models/releases/download/en_core_web_sm-3.2.0/en_core_web_sm-3.2.0-py3-none-any.whl (13.9 MB)\n",
      "     ---------------------------------------- 0.0/13.9 MB ? eta -:--:--\n",
      "     ---------------------------------------- 0.0/13.9 MB ? eta -:--:--\n",
      "     --- ------------------------------------ 1.0/13.9 MB 4.6 MB/s eta 0:00:03\n",
      "     ------ --------------------------------- 2.4/13.9 MB 5.2 MB/s eta 0:00:03\n",
      "     --------- ------------------------------ 3.1/13.9 MB 5.1 MB/s eta 0:00:03\n",
      "     ----------- ---------------------------- 3.9/13.9 MB 4.4 MB/s eta 0:00:03\n",
      "     -------------- ------------------------- 5.0/13.9 MB 4.6 MB/s eta 0:00:02\n",
      "     ---------------- ----------------------- 5.8/13.9 MB 4.6 MB/s eta 0:00:02\n",
      "     ------------------- -------------------- 6.8/13.9 MB 4.6 MB/s eta 0:00:02\n",
      "     ---------------------- ----------------- 7.9/13.9 MB 4.7 MB/s eta 0:00:02\n",
      "     ------------------------- -------------- 8.9/13.9 MB 4.7 MB/s eta 0:00:02\n",
      "     ---------------------------- ----------- 10.0/13.9 MB 4.7 MB/s eta 0:00:01\n",
      "     ------------------------------- -------- 11.0/13.9 MB 4.8 MB/s eta 0:00:01\n",
      "     --------------------------------- ------ 11.8/13.9 MB 4.8 MB/s eta 0:00:01\n",
      "     ------------------------------------ --- 12.6/13.9 MB 4.6 MB/s eta 0:00:01\n",
      "     -------------------------------------- - 13.4/13.9 MB 4.6 MB/s eta 0:00:01\n",
      "     ---------------------------------------- 13.9/13.9 MB 4.4 MB/s eta 0:00:00\n",
      "Requirement already satisfied: spacy<3.3.0,>=3.2.0 in c:\\users\\iavn98\\anaconda3\\envs\\myenv\\lib\\site-packages (from en-core-web-sm==3.2.0) (3.2.4)\n",
      "Requirement already satisfied: spacy-legacy<3.1.0,>=3.0.8 in c:\\users\\iavn98\\anaconda3\\envs\\myenv\\lib\\site-packages (from spacy<3.3.0,>=3.2.0->en-core-web-sm==3.2.0) (3.0.12)\n",
      "Requirement already satisfied: spacy-loggers<2.0.0,>=1.0.0 in c:\\users\\iavn98\\anaconda3\\envs\\myenv\\lib\\site-packages (from spacy<3.3.0,>=3.2.0->en-core-web-sm==3.2.0) (1.0.5)\n",
      "Requirement already satisfied: murmurhash<1.1.0,>=0.28.0 in c:\\users\\iavn98\\anaconda3\\envs\\myenv\\lib\\site-packages (from spacy<3.3.0,>=3.2.0->en-core-web-sm==3.2.0) (1.0.10)\n",
      "Requirement already satisfied: cymem<2.1.0,>=2.0.2 in c:\\users\\iavn98\\anaconda3\\envs\\myenv\\lib\\site-packages (from spacy<3.3.0,>=3.2.0->en-core-web-sm==3.2.0) (2.0.8)\n",
      "Requirement already satisfied: preshed<3.1.0,>=3.0.2 in c:\\users\\iavn98\\anaconda3\\envs\\myenv\\lib\\site-packages (from spacy<3.3.0,>=3.2.0->en-core-web-sm==3.2.0) (3.0.9)\n",
      "Requirement already satisfied: thinc<8.1.0,>=8.0.12 in c:\\users\\iavn98\\anaconda3\\envs\\myenv\\lib\\site-packages (from spacy<3.3.0,>=3.2.0->en-core-web-sm==3.2.0) (8.0.13)\n",
      "Requirement already satisfied: blis<0.8.0,>=0.4.0 in c:\\users\\iavn98\\anaconda3\\envs\\myenv\\lib\\site-packages (from spacy<3.3.0,>=3.2.0->en-core-web-sm==3.2.0) (0.7.11)\n",
      "Requirement already satisfied: wasabi<1.1.0,>=0.8.1 in c:\\users\\iavn98\\anaconda3\\envs\\myenv\\lib\\site-packages (from spacy<3.3.0,>=3.2.0->en-core-web-sm==3.2.0) (0.10.1)\n",
      "Requirement already satisfied: srsly<3.0.0,>=2.4.1 in c:\\users\\iavn98\\anaconda3\\envs\\myenv\\lib\\site-packages (from spacy<3.3.0,>=3.2.0->en-core-web-sm==3.2.0) (2.4.8)\n",
      "Requirement already satisfied: catalogue<2.1.0,>=2.0.6 in c:\\users\\iavn98\\anaconda3\\envs\\myenv\\lib\\site-packages (from spacy<3.3.0,>=3.2.0->en-core-web-sm==3.2.0) (2.0.10)\n",
      "Requirement already satisfied: typer<0.5.0,>=0.3.0 in c:\\users\\iavn98\\anaconda3\\envs\\myenv\\lib\\site-packages (from spacy<3.3.0,>=3.2.0->en-core-web-sm==3.2.0) (0.4.2)\n",
      "Requirement already satisfied: click<8.1.0 in c:\\users\\iavn98\\anaconda3\\envs\\myenv\\lib\\site-packages (from spacy<3.3.0,>=3.2.0->en-core-web-sm==3.2.0) (8.0.4)\n",
      "Requirement already satisfied: pathy>=0.3.5 in c:\\users\\iavn98\\anaconda3\\envs\\myenv\\lib\\site-packages (from spacy<3.3.0,>=3.2.0->en-core-web-sm==3.2.0) (0.11.0)\n",
      "Requirement already satisfied: tqdm<5.0.0,>=4.38.0 in c:\\users\\iavn98\\anaconda3\\envs\\myenv\\lib\\site-packages (from spacy<3.3.0,>=3.2.0->en-core-web-sm==3.2.0) (4.66.6)\n",
      "Requirement already satisfied: numpy>=1.15.0 in c:\\users\\iavn98\\anaconda3\\envs\\myenv\\lib\\site-packages (from spacy<3.3.0,>=3.2.0->en-core-web-sm==3.2.0) (1.24.4)\n",
      "Requirement already satisfied: requests<3.0.0,>=2.13.0 in c:\\users\\iavn98\\anaconda3\\envs\\myenv\\lib\\site-packages (from spacy<3.3.0,>=3.2.0->en-core-web-sm==3.2.0) (2.32.3)\n",
      "Requirement already satisfied: pydantic!=1.8,!=1.8.1,<1.9.0,>=1.7.4 in c:\\users\\iavn98\\anaconda3\\envs\\myenv\\lib\\site-packages (from spacy<3.3.0,>=3.2.0->en-core-web-sm==3.2.0) (1.7.4)\n",
      "Requirement already satisfied: jinja2 in c:\\users\\iavn98\\anaconda3\\envs\\myenv\\lib\\site-packages (from spacy<3.3.0,>=3.2.0->en-core-web-sm==3.2.0) (3.1.4)\n",
      "Requirement already satisfied: setuptools in c:\\users\\iavn98\\anaconda3\\envs\\myenv\\lib\\site-packages (from spacy<3.3.0,>=3.2.0->en-core-web-sm==3.2.0) (75.3.0)\n",
      "Requirement already satisfied: packaging>=20.0 in c:\\users\\iavn98\\anaconda3\\envs\\myenv\\lib\\site-packages (from spacy<3.3.0,>=3.2.0->en-core-web-sm==3.2.0) (24.1)\n",
      "Requirement already satisfied: langcodes<4.0.0,>=3.2.0 in c:\\users\\iavn98\\anaconda3\\envs\\myenv\\lib\\site-packages (from spacy<3.3.0,>=3.2.0->en-core-web-sm==3.2.0) (3.4.1)\n",
      "Requirement already satisfied: colorama in c:\\users\\iavn98\\anaconda3\\envs\\myenv\\lib\\site-packages (from click<8.1.0->spacy<3.3.0,>=3.2.0->en-core-web-sm==3.2.0) (0.4.6)\n",
      "Requirement already satisfied: language-data>=1.2 in c:\\users\\iavn98\\anaconda3\\envs\\myenv\\lib\\site-packages (from langcodes<4.0.0,>=3.2.0->spacy<3.3.0,>=3.2.0->en-core-web-sm==3.2.0) (1.2.0)\n",
      "Requirement already satisfied: smart-open<7.0.0,>=5.2.1 in c:\\users\\iavn98\\anaconda3\\envs\\myenv\\lib\\site-packages (from pathy>=0.3.5->spacy<3.3.0,>=3.2.0->en-core-web-sm==3.2.0) (6.4.0)\n",
      "Requirement already satisfied: pathlib-abc==0.1.1 in c:\\users\\iavn98\\anaconda3\\envs\\myenv\\lib\\site-packages (from pathy>=0.3.5->spacy<3.3.0,>=3.2.0->en-core-web-sm==3.2.0) (0.1.1)\n",
      "Requirement already satisfied: charset-normalizer<4,>=2 in c:\\users\\iavn98\\anaconda3\\envs\\myenv\\lib\\site-packages (from requests<3.0.0,>=2.13.0->spacy<3.3.0,>=3.2.0->en-core-web-sm==3.2.0) (3.4.0)\n",
      "Requirement already satisfied: idna<4,>=2.5 in c:\\users\\iavn98\\anaconda3\\envs\\myenv\\lib\\site-packages (from requests<3.0.0,>=2.13.0->spacy<3.3.0,>=3.2.0->en-core-web-sm==3.2.0) (3.10)\n",
      "Requirement already satisfied: urllib3<3,>=1.21.1 in c:\\users\\iavn98\\anaconda3\\envs\\myenv\\lib\\site-packages (from requests<3.0.0,>=2.13.0->spacy<3.3.0,>=3.2.0->en-core-web-sm==3.2.0) (2.2.3)\n",
      "Requirement already satisfied: certifi>=2017.4.17 in c:\\users\\iavn98\\anaconda3\\envs\\myenv\\lib\\site-packages (from requests<3.0.0,>=2.13.0->spacy<3.3.0,>=3.2.0->en-core-web-sm==3.2.0) (2024.8.30)\n",
      "Requirement already satisfied: MarkupSafe>=2.0 in c:\\users\\iavn98\\anaconda3\\envs\\myenv\\lib\\site-packages (from jinja2->spacy<3.3.0,>=3.2.0->en-core-web-sm==3.2.0) (2.1.5)\n",
      "Requirement already satisfied: marisa-trie>=0.7.7 in c:\\users\\iavn98\\anaconda3\\envs\\myenv\\lib\\site-packages (from language-data>=1.2->langcodes<4.0.0,>=3.2.0->spacy<3.3.0,>=3.2.0->en-core-web-sm==3.2.0) (1.2.1)\n",
      "Installing collected packages: en-core-web-sm\n",
      "Successfully installed en-core-web-sm-3.2.0\n",
      "[+] Download and installation successful\n",
      "You can now load the package via spacy.load('en_core_web_sm')\n"
     ]
    },
    {
     "name": "stderr",
     "output_type": "stream",
     "text": [
      "DEPRECATION: https://github.com/explosion/spacy-models/releases/download/en_core_web_sm-3.2.0/en_core_web_sm-3.2.0-py3-none-any.whl#egg=en_core_web_sm==3.2.0 contains an egg fragment with a non-PEP 508 name pip 25.0 will enforce this behaviour change. A possible replacement is to use the req @ url syntax, and remove the egg fragment. Discussion can be found at https://github.com/pypa/pip/issues/11617\n"
     ]
    }
   ],
   "source": [
    "!python -m spacy download en_core_web_sm"
   ]
  },
  {
   "cell_type": "code",
   "execution_count": 2,
   "metadata": {},
   "outputs": [],
   "source": [
    "import spacy\n",
    "nlp = spacy.load(\"en_core_web_sm\")\n"
   ]
  },
  {
   "cell_type": "code",
   "execution_count": 3,
   "metadata": {
    "id": "BpIzg9Ehh5zs"
   },
   "outputs": [],
   "source": [
    "import torch\n",
    "import torch.nn as nn\n",
    "from torchtext import data\n",
    "from torchtext import datasets\n",
    "from torchtext.data import Field\n",
    "\n",
    "SEED = 1234\n",
    "\n",
    "torch.manual_seed(SEED)\n",
    "torch.backends.cudnn.deterministic = True\n",
    "TEXT = Field(tokenize='spacy', tokenizer_language='en_core_web_sm', include_lengths=True)\n",
    "LABEL = data.LabelField(dtype = torch.float)"
   ]
  },
  {
   "cell_type": "markdown",
   "metadata": {
    "id": "5im_3jPuh5zs"
   },
   "source": [
    "## 下載並讀取資料\n",
    "\n",
    "torchtext 的 datasets 集合裡面就有 IMDB 資料，直接就可以讀取訓練以及測試資料了。"
   ]
  },
  {
   "cell_type": "code",
   "execution_count": 4,
   "metadata": {
    "colab": {
     "base_uri": "https://localhost:8080/"
    },
    "executionInfo": {
     "elapsed": 109664,
     "status": "ok",
     "timestamp": 1610966421652,
     "user": {
      "displayName": "TJ Huang",
      "photoUrl": "https://lh3.googleusercontent.com/a-/AOh14GhD8ZNogaI1a7JvaPCP0sixRAUqrNuHydZOR0qLPQ=s64",
      "userId": "07122505407861381538"
     },
     "user_tz": -480
    },
    "id": "RQBm1Pihh5zs",
    "outputId": "5c3537bd-9422-41af-aef9-82bd1b09a260"
   },
   "outputs": [],
   "source": [
    "train_data, test_data = datasets.IMDB.splits(TEXT, LABEL)"
   ]
  },
  {
   "cell_type": "markdown",
   "metadata": {
    "id": "lg3dDAnvh5zs"
   },
   "source": [
    "\n",
    "## 從訓練資料裡面切割驗證資料\n",
    "\n",
    "從訓練資料裡面抓取一些資料當作 validation set"
   ]
  },
  {
   "cell_type": "code",
   "execution_count": 5,
   "metadata": {
    "id": "LJ3m5a4jh5zs"
   },
   "outputs": [],
   "source": [
    "import random\n",
    "\n",
    "train_data, valid_data = train_data.split(random_state = random.seed(SEED))"
   ]
  },
  {
   "cell_type": "markdown",
   "metadata": {
    "id": "4rt_o8fRh5zs"
   },
   "source": [
    "# 建立字典\n",
    "\n",
    "接下來是使用預訓練的 word embeddings。只要呼叫 TorchText 的 build_vocab 就可以把所有的文字向量化, 我們使用的是 \"glove.6B.100d\" 的向量，glove 是一個用來計算詞向量的演算法。6B 是指這些詞向量是用了60億個tokens訓練出來的，而 100d 是指每一個向量的維度是 100。"
   ]
  },
  {
   "cell_type": "code",
   "execution_count": 9,
   "metadata": {
    "colab": {
     "base_uri": "https://localhost:8080/"
    },
    "executionInfo": {
     "elapsed": 537753,
     "status": "ok",
     "timestamp": 1610966849749,
     "user": {
      "displayName": "TJ Huang",
      "photoUrl": "https://lh3.googleusercontent.com/a-/AOh14GhD8ZNogaI1a7JvaPCP0sixRAUqrNuHydZOR0qLPQ=s64",
      "userId": "07122505407861381538"
     },
     "user_tz": -480
    },
    "id": "Y855ENTLh5zs",
    "outputId": "85da1e4e-ef4b-4913-8f32-425de639db91"
   },
   "outputs": [],
   "source": [
    "MAX_VOCAB_SIZE = 25_000\n",
    "\n",
    "TEXT.build_vocab(train_data, \n",
    "                 max_size = MAX_VOCAB_SIZE, \n",
    "                 vectors = \"glove.6B.100d\",\n",
    "                 unk_init = torch.Tensor.normal_)\n",
    "\n",
    "LABEL.build_vocab(train_data)"
   ]
  },
  {
   "cell_type": "markdown",
   "metadata": {
    "id": "KTJfJYW_h5zs"
   },
   "source": [
    "#建立Iterator\n",
    "\n",
    "Iterator 是 torchtext 到模型的輸出，提供了對數據的打亂、排序等等處理方法。可以動態修改 batch size這裡使用 splits method 來同時輸出訓練集、驗證集以及測試集。\n",
    "\n",
    "如果有 GPU 的話則使用 cuda 來做運算。\n",
    "\n",
    "`sort_within_batch = True` 是表示在每一個 batch 裡面的 tensors 是依照長度排序的。"
   ]
  },
  {
   "cell_type": "code",
   "execution_count": 6,
   "metadata": {
    "id": "KqCebFvAh5zs"
   },
   "outputs": [],
   "source": [
    "BATCH_SIZE = 64\n",
    "\n",
    "device = torch.device('cuda' if torch.cuda.is_available() else 'cpu')\n",
    "\n",
    "train_iterator, valid_iterator, test_iterator = data.BucketIterator.splits(\n",
    "    (train_data, valid_data, test_data), \n",
    "    batch_size = BATCH_SIZE,\n",
    "    sort_within_batch = True,\n",
    "    device = device)"
   ]
  },
  {
   "cell_type": "markdown",
   "metadata": {
    "id": "yGpIKauzh5zs"
   },
   "source": [
    "# 建立 LSTM 模型\n",
    "我們將使用 pytorch 內建的 RNN 架構是 LSTM (Long Short-Term Memory)模型。它的公式如下：\n",
    "\n",
    "$(h_t, c_t) = \\text{LSTM}(x_t, h_t, c_t)$\n",
    "\n",
    "\n",
    "步驟解釋：\n",
    "\n",
    "1. 在模型裡，每個詞會先通過 embedding layer 的到特徵向量\n",
    "2. 然後我們使用 LSTM 對特徵序列進一步編碼得到序列信息。\n",
    "3. 將編碼後的序列信息通過全連接層(Fully connectivity layer)得到輸出。\n",
    "\n",
    "\n"
   ]
  },
  {
   "cell_type": "code",
   "execution_count": 7,
   "metadata": {
    "id": "hjCYAR_Eh5zs"
   },
   "outputs": [],
   "source": [
    "\n",
    "class LSTM(nn.Module):\n",
    "    def __init__(self, vocab_size, embedding_dim, hidden_dim, output_dim, n_layers, \n",
    "                 bidirectional, dropout, pad_idx):\n",
    "        \n",
    "        super().__init__()\n",
    "        \n",
    "        self.embedding = nn.Embedding(vocab_size, embedding_dim, padding_idx = pad_idx)\n",
    "        \n",
    "        self.rnn = nn.LSTM(embedding_dim, \n",
    "                           hidden_dim, \n",
    "                           num_layers=n_layers, \n",
    "                           bidirectional=bidirectional, \n",
    "                           dropout=dropout)\n",
    "        \n",
    "        self.fc = nn.Linear(hidden_dim * 2, output_dim)\n",
    "        \n",
    "        self.dropout = nn.Dropout(dropout)\n",
    "        \n",
    "    def forward(self, text, text_lengths):\n",
    "        \n",
    "        #text = [sent len, batch size]\n",
    "        \n",
    "        embedded = self.dropout(self.embedding(text))\n",
    "        \n",
    "        #embedded = [sent len, batch size, emb dim]\n",
    "        \n",
    "        #pack sequence\n",
    "        packed_embedded = nn.utils.rnn.pack_padded_sequence(embedded, text_lengths.cpu())\n",
    "        \n",
    "        packed_output, (hidden, cell) = self.rnn(packed_embedded)\n",
    "        \n",
    "        #unpack sequence\n",
    "        output, output_lengths = nn.utils.rnn.pad_packed_sequence(packed_output)\n",
    "\n",
    "        #output = [sent len, batch size, hid dim * num directions]\n",
    "        #output over padding tokens are zero tensors\n",
    "        \n",
    "        #hidden = [num layers * num directions, batch size, hid dim]\n",
    "        #cell = [num layers * num directions, batch size, hid dim]\n",
    "        \n",
    "        #concat the final forward (hidden[-2,:,:]) and backward (hidden[-1,:,:]) hidden layers\n",
    "        #and apply dropout\n",
    "        \n",
    "        hidden = self.dropout(torch.cat((hidden[-2,:,:], hidden[-1,:,:]), dim = 1))\n",
    "                \n",
    "        #hidden = [batch size, hid dim * num directions]\n",
    "            \n",
    "        return self.fc(hidden)"
   ]
  },
  {
   "cell_type": "markdown",
   "metadata": {
    "id": "4s7IySNeh5zs"
   },
   "source": [
    "\n",
    "# LSTM 模型參數說明\n",
    "\n",
    "1. vocab_size: 輸入層的維度(input dim)\n",
    "2. embedding_dim: 詞向量的維度, 我們使用的是 glove.6B.100d, 所以這裡 embedding_dim 是 100\n",
    "3. hidden_dim: the size of the hidden states\n",
    "4. output_dim: 輸出層的維度\n",
    "5. n_layers: 有幾層全連結層\n",
    "6. bidirectional: 是否使用雙向 RNN\n",
    "7. dropout： dropout 的比例\n",
    "8. pad_idx: token <pad> 的 index\n"
   ]
  },
  {
   "cell_type": "code",
   "execution_count": 10,
   "metadata": {
    "id": "0nRixhDvh5zs"
   },
   "outputs": [],
   "source": [
    "INPUT_DIM = len(TEXT.vocab)\n",
    "EMBEDDING_DIM = 100\n",
    "HIDDEN_DIM = 256\n",
    "OUTPUT_DIM = 1\n",
    "N_LAYERS = 2\n",
    "BIDIRECTIONAL = False\n",
    "DROPOUT = 0.5\n",
    "PAD_IDX = TEXT.vocab.stoi[TEXT.pad_token]\n",
    "\n",
    "model = LSTM(INPUT_DIM, \n",
    "            EMBEDDING_DIM, \n",
    "            HIDDEN_DIM, \n",
    "            OUTPUT_DIM, \n",
    "            N_LAYERS, \n",
    "            BIDIRECTIONAL, \n",
    "            DROPOUT,\n",
    "            PAD_IDX)"
   ]
  },
  {
   "cell_type": "markdown",
   "metadata": {
    "id": "FpYQJmGih5zs"
   },
   "source": [
    "印出我們模型的參數量"
   ]
  },
  {
   "cell_type": "code",
   "execution_count": 11,
   "metadata": {
    "colab": {
     "base_uri": "https://localhost:8080/"
    },
    "executionInfo": {
     "elapsed": 1541,
     "status": "ok",
     "timestamp": 1610968413104,
     "user": {
      "displayName": "TJ Huang",
      "photoUrl": "https://lh3.googleusercontent.com/a-/AOh14GhD8ZNogaI1a7JvaPCP0sixRAUqrNuHydZOR0qLPQ=s64",
      "userId": "07122505407861381538"
     },
     "user_tz": -480
    },
    "id": "clRTL5Hih5zs",
    "outputId": "e19aee57-d4b6-4441-82ee-e6f8003e9171"
   },
   "outputs": [
    {
     "name": "stdout",
     "output_type": "stream",
     "text": [
      "The model has 3,393,641 trainable parameters\n"
     ]
    }
   ],
   "source": [
    "def count_parameters(model):\n",
    "    return sum(p.numel() for p in model.parameters() if p.requires_grad)\n",
    "\n",
    "print(f'The model has {count_parameters(model):,} trainable parameters')"
   ]
  },
  {
   "cell_type": "markdown",
   "metadata": {
    "id": "iBc7QkGjh5zt"
   },
   "source": [
    "\n",
    "檢查 embedding 的字典大小以及 embedding 的維度\n",
    "\n",
    "_**[vocab size, embedding dim]**_ \n"
   ]
  },
  {
   "cell_type": "code",
   "execution_count": 12,
   "metadata": {
    "colab": {
     "base_uri": "https://localhost:8080/"
    },
    "executionInfo": {
     "elapsed": 1536,
     "status": "ok",
     "timestamp": 1610968413105,
     "user": {
      "displayName": "TJ Huang",
      "photoUrl": "https://lh3.googleusercontent.com/a-/AOh14GhD8ZNogaI1a7JvaPCP0sixRAUqrNuHydZOR0qLPQ=s64",
      "userId": "07122505407861381538"
     },
     "user_tz": -480
    },
    "id": "1k7sY2aCh5zt",
    "outputId": "8544e020-a652-4c14-82d3-66e24900afed"
   },
   "outputs": [
    {
     "name": "stdout",
     "output_type": "stream",
     "text": [
      "torch.Size([25002, 100])\n"
     ]
    }
   ],
   "source": [
    "pretrained_embeddings = TEXT.vocab.vectors\n",
    "\n",
    "print(pretrained_embeddings.shape)"
   ]
  },
  {
   "cell_type": "markdown",
   "metadata": {
    "id": "j2BPDdj-h5zt"
   },
   "source": [
    "用 pre-trained embeddings 來當作 `embedding` 層的初始化參數\n"
   ]
  },
  {
   "cell_type": "code",
   "execution_count": 13,
   "metadata": {
    "colab": {
     "base_uri": "https://localhost:8080/"
    },
    "executionInfo": {
     "elapsed": 1530,
     "status": "ok",
     "timestamp": 1610968413105,
     "user": {
      "displayName": "TJ Huang",
      "photoUrl": "https://lh3.googleusercontent.com/a-/AOh14GhD8ZNogaI1a7JvaPCP0sixRAUqrNuHydZOR0qLPQ=s64",
      "userId": "07122505407861381538"
     },
     "user_tz": -480
    },
    "id": "BUZmehuKh5zt",
    "outputId": "e228cb85-69bd-4cf9-ec98-2dff75d2b728"
   },
   "outputs": [
    {
     "data": {
      "text/plain": [
       "tensor([[-0.1117, -0.4966,  0.1631,  ...,  1.2647, -0.2753, -0.1325],\n",
       "        [-0.8555, -0.7208,  1.3755,  ...,  0.0825, -1.1314,  0.3997],\n",
       "        [-0.0382, -0.2449,  0.7281,  ..., -0.1459,  0.8278,  0.2706],\n",
       "        ...,\n",
       "        [-0.3617,  0.6201,  0.1105,  ...,  0.2994, -0.5920,  1.0949],\n",
       "        [-1.5604, -0.2112,  0.0090,  ..., -0.3807,  0.6190, -1.2712],\n",
       "        [-0.1954,  0.5692, -0.0671,  ...,  0.2170,  0.7001, -0.1479]])"
      ]
     },
     "execution_count": 13,
     "metadata": {},
     "output_type": "execute_result"
    }
   ],
   "source": [
    "model.embedding.weight.data.copy_(pretrained_embeddings)"
   ]
  },
  {
   "cell_type": "markdown",
   "metadata": {
    "id": "yAO6zCL9h5zt"
   },
   "source": [
    "因為`<unk>` and `<pad>`是沒有在 pre-trained 的詞裡面，所以要把 `<unk>` 和 `<pad>`的 初始 embedding 權重都變成 0"
   ]
  },
  {
   "cell_type": "code",
   "execution_count": 14,
   "metadata": {
    "colab": {
     "base_uri": "https://localhost:8080/"
    },
    "executionInfo": {
     "elapsed": 1525,
     "status": "ok",
     "timestamp": 1610968413106,
     "user": {
      "displayName": "TJ Huang",
      "photoUrl": "https://lh3.googleusercontent.com/a-/AOh14GhD8ZNogaI1a7JvaPCP0sixRAUqrNuHydZOR0qLPQ=s64",
      "userId": "07122505407861381538"
     },
     "user_tz": -480
    },
    "id": "Dy8PyFGLh5zu",
    "outputId": "41cb035e-cf7c-4cef-a630-e3fa374e6d95"
   },
   "outputs": [
    {
     "name": "stdout",
     "output_type": "stream",
     "text": [
      "tensor([[ 0.0000,  0.0000,  0.0000,  ...,  0.0000,  0.0000,  0.0000],\n",
      "        [ 0.0000,  0.0000,  0.0000,  ...,  0.0000,  0.0000,  0.0000],\n",
      "        [-0.0382, -0.2449,  0.7281,  ..., -0.1459,  0.8278,  0.2706],\n",
      "        ...,\n",
      "        [-0.3617,  0.6201,  0.1105,  ...,  0.2994, -0.5920,  1.0949],\n",
      "        [-1.5604, -0.2112,  0.0090,  ..., -0.3807,  0.6190, -1.2712],\n",
      "        [-0.1954,  0.5692, -0.0671,  ...,  0.2170,  0.7001, -0.1479]])\n"
     ]
    }
   ],
   "source": [
    "UNK_IDX = TEXT.vocab.stoi[TEXT.unk_token]\n",
    "\n",
    "model.embedding.weight.data[UNK_IDX] = torch.zeros(EMBEDDING_DIM)\n",
    "model.embedding.weight.data[PAD_IDX] = torch.zeros(EMBEDDING_DIM)\n",
    "\n",
    "print(model.embedding.weight.data)"
   ]
  },
  {
   "cell_type": "markdown",
   "metadata": {
    "id": "mbublLfuh5zu"
   },
   "source": [
    "We can now see the first two rows of the embedding weights matrix have been set to zeros. As we passed the index of the pad token to the `padding_idx` of the embedding layer it will remain zeros throughout training, however the `<unk>` token embedding will be learned."
   ]
  },
  {
   "cell_type": "markdown",
   "metadata": {
    "id": "mQ3KLo-Bh5zu"
   },
   "source": [
    "## 訓練模型"
   ]
  },
  {
   "cell_type": "markdown",
   "metadata": {
    "id": "ZOyVlzOgh5zu"
   },
   "source": [
    "使用優化器 Adam"
   ]
  },
  {
   "cell_type": "code",
   "execution_count": 15,
   "metadata": {
    "id": "z4pq14aXh5zu"
   },
   "outputs": [],
   "source": [
    "import torch.optim as optim\n",
    "\n",
    "optimizer = optim.Adam(model.parameters())"
   ]
  },
  {
   "cell_type": "markdown",
   "metadata": {
    "id": "fJ-Obpa0h5zu"
   },
   "source": [
    "使用 BCEWithLogitsLoss 當作 Loss Function"
   ]
  },
  {
   "cell_type": "code",
   "execution_count": 16,
   "metadata": {
    "id": "mTqpIgdmh5zu"
   },
   "outputs": [],
   "source": [
    "criterion = nn.BCEWithLogitsLoss()\n",
    "\n",
    "model = model.to(device)\n",
    "criterion = criterion.to(device)"
   ]
  },
  {
   "cell_type": "markdown",
   "metadata": {
    "id": "aj_qyWU1h5zu"
   },
   "source": [
    "實作計算計算準確度的函式\n",
    "\n"
   ]
  },
  {
   "cell_type": "code",
   "execution_count": 17,
   "metadata": {
    "id": "bWMRD9Yfh5zu"
   },
   "outputs": [],
   "source": [
    "def binary_accuracy(preds, y):\n",
    "    \"\"\"\n",
    "    Returns accuracy per batch, i.e. if you get 8/10 right, this returns 0.8, NOT 8\n",
    "    \"\"\"\n",
    "\n",
    "    #round predictions to the closest integer\n",
    "    rounded_preds = torch.round(torch.sigmoid(preds))\n",
    "    correct = (rounded_preds == y).float() #convert into float for division \n",
    "    acc = correct.sum() / len(correct)\n",
    "    return acc"
   ]
  },
  {
   "cell_type": "markdown",
   "metadata": {
    "id": "QF66HLSsh5zu"
   },
   "source": [
    "# 訓練函式"
   ]
  },
  {
   "cell_type": "code",
   "execution_count": 18,
   "metadata": {
    "id": "nYmpftoIh5zu"
   },
   "outputs": [],
   "source": [
    "\n",
    "\n",
    "def train(model, iterator, optimizer, criterion):\n",
    "    \n",
    "    epoch_loss = 0\n",
    "    epoch_acc = 0\n",
    "    \n",
    "    model.train()\n",
    "    \n",
    "    for batch in iterator:\n",
    "        \n",
    "        optimizer.zero_grad()\n",
    "        \n",
    "        text, text_lengths = batch.text\n",
    "        \n",
    "        predictions = model(text, text_lengths).squeeze(1)\n",
    "        \n",
    "        loss = criterion(predictions, batch.label)\n",
    "        \n",
    "        acc = binary_accuracy(predictions, batch.label)\n",
    "        \n",
    "        loss.backward()\n",
    "        \n",
    "        optimizer.step()\n",
    "        \n",
    "        epoch_loss += loss.item()\n",
    "        epoch_acc += acc.item()\n",
    "        \n",
    "    return epoch_loss / len(iterator), epoch_acc / len(iterator)"
   ]
  },
  {
   "cell_type": "markdown",
   "metadata": {
    "id": "NZmY5b9hh5zu"
   },
   "source": [
    "# 測試模型的方法\n"
   ]
  },
  {
   "cell_type": "code",
   "execution_count": 19,
   "metadata": {
    "id": "7i7SLjYoh5zu"
   },
   "outputs": [],
   "source": [
    "def evaluate(model, iterator, criterion):\n",
    "    \n",
    "    epoch_loss = 0\n",
    "    epoch_acc = 0\n",
    "    \n",
    "    model.eval()\n",
    "    \n",
    "    with torch.no_grad():\n",
    "    \n",
    "        for batch in iterator:\n",
    "\n",
    "            text, text_lengths = batch.text\n",
    "            \n",
    "            predictions = model(text, text_lengths).squeeze(1)\n",
    "            \n",
    "            loss = criterion(predictions, batch.label)\n",
    "            \n",
    "            acc = binary_accuracy(predictions, batch.label)\n",
    "\n",
    "            epoch_loss += loss.item()\n",
    "            epoch_acc += acc.item()\n",
    "        \n",
    "    return epoch_loss / len(iterator), epoch_acc / len(iterator)"
   ]
  },
  {
   "cell_type": "markdown",
   "metadata": {
    "id": "S1Ygz7V-h5zu"
   },
   "source": [
    "查看訓練進度以及花費的時間"
   ]
  },
  {
   "cell_type": "code",
   "execution_count": 20,
   "metadata": {
    "id": "3iCSdOs8h5zu"
   },
   "outputs": [],
   "source": [
    "import time\n",
    "\n",
    "def epoch_time(start_time, end_time):\n",
    "    elapsed_time = end_time - start_time\n",
    "    elapsed_mins = int(elapsed_time / 60)\n",
    "    elapsed_secs = int(elapsed_time - (elapsed_mins * 60))\n",
    "    return elapsed_mins, elapsed_secs"
   ]
  },
  {
   "cell_type": "markdown",
   "metadata": {
    "id": "bi8X4DTgh5zu"
   },
   "source": [
    "開始訓練"
   ]
  },
  {
   "cell_type": "code",
   "execution_count": 21,
   "metadata": {
    "colab": {
     "base_uri": "https://localhost:8080/"
    },
    "executionInfo": {
     "elapsed": 82595,
     "status": "ok",
     "timestamp": 1610968526544,
     "user": {
      "displayName": "TJ Huang",
      "photoUrl": "https://lh3.googleusercontent.com/a-/AOh14GhD8ZNogaI1a7JvaPCP0sixRAUqrNuHydZOR0qLPQ=s64",
      "userId": "07122505407861381538"
     },
     "user_tz": -480
    },
    "id": "uav7h10Nh5zu",
    "outputId": "107e5859-07ce-4153-fc6d-905bdf074646"
   },
   "outputs": [
    {
     "name": "stdout",
     "output_type": "stream",
     "text": [
      "Epoch: 01 | Epoch Time: 0m 52s\n",
      "\tTrain Loss: 0.673 | Train Acc: 58.30%\n",
      "\t Val. Loss: 0.654 |  Val. Acc: 61.89%\n",
      "Epoch: 02 | Epoch Time: 0m 20s\n",
      "\tTrain Loss: 0.611 | Train Acc: 66.71%\n",
      "\t Val. Loss: 0.523 |  Val. Acc: 75.52%\n",
      "Epoch: 03 | Epoch Time: 0m 20s\n",
      "\tTrain Loss: 0.502 | Train Acc: 76.42%\n",
      "\t Val. Loss: 0.480 |  Val. Acc: 77.96%\n",
      "Epoch: 04 | Epoch Time: 0m 20s\n",
      "\tTrain Loss: 0.410 | Train Acc: 82.10%\n",
      "\t Val. Loss: 0.508 |  Val. Acc: 75.89%\n",
      "Epoch: 05 | Epoch Time: 0m 20s\n",
      "\tTrain Loss: 0.356 | Train Acc: 84.85%\n",
      "\t Val. Loss: 0.347 |  Val. Acc: 85.21%\n"
     ]
    }
   ],
   "source": [
    "N_EPOCHS = 5\n",
    "\n",
    "\n",
    "best_valid_loss = float('inf')\n",
    "\n",
    "for epoch in range(N_EPOCHS):\n",
    "\n",
    "    start_time = time.time()\n",
    "    \n",
    "    train_loss, train_acc = train(model, train_iterator, optimizer, criterion)\n",
    "    valid_loss, valid_acc = evaluate(model, valid_iterator, criterion)\n",
    "    \n",
    "    end_time = time.time()\n",
    "\n",
    "    epoch_mins, epoch_secs = epoch_time(start_time, end_time)\n",
    "    \n",
    "    if valid_loss < best_valid_loss:\n",
    "        best_valid_loss = valid_loss\n",
    "        torch.save(model.state_dict(), 'tut2-model.pt')\n",
    "    \n",
    "    print(f'Epoch: {epoch+1:02} | Epoch Time: {epoch_mins}m {epoch_secs}s')\n",
    "    print(f'\\tTrain Loss: {train_loss:.3f} | Train Acc: {train_acc*100:.2f}%')\n",
    "    print(f'\\t Val. Loss: {valid_loss:.3f} |  Val. Acc: {valid_acc*100:.2f}%')"
   ]
  },
  {
   "cell_type": "markdown",
   "metadata": {
    "id": "0Xllf06gh5zu"
   },
   "source": [
    "測試模型的準確度"
   ]
  },
  {
   "cell_type": "code",
   "execution_count": 22,
   "metadata": {
    "colab": {
     "base_uri": "https://localhost:8080/"
    },
    "executionInfo": {
     "elapsed": 88744,
     "status": "ok",
     "timestamp": 1610968532699,
     "user": {
      "displayName": "TJ Huang",
      "photoUrl": "https://lh3.googleusercontent.com/a-/AOh14GhD8ZNogaI1a7JvaPCP0sixRAUqrNuHydZOR0qLPQ=s64",
      "userId": "07122505407861381538"
     },
     "user_tz": -480
    },
    "id": "1zrPaGTBh5zu",
    "outputId": "4255c4e4-0942-408d-d7d8-750ac15c1180"
   },
   "outputs": [
    {
     "name": "stdout",
     "output_type": "stream",
     "text": [
      "Test Loss: 0.361 | Test Acc: 84.70%\n"
     ]
    }
   ],
   "source": [
    "model.load_state_dict(torch.load('tut2-model.pt'))\n",
    "\n",
    "test_loss, test_acc = evaluate(model, test_iterator, criterion)\n",
    "\n",
    "print(f'Test Loss: {test_loss:.3f} | Test Acc: {test_acc*100:.2f}%')"
   ]
  },
  {
   "cell_type": "markdown",
   "metadata": {
    "id": "Lo2tHWvLh5zu"
   },
   "source": [
    "## Demo 函式\n",
    "\n",
    "最後我們來建立一個 Demo 的函式讓使用者可以輸入任意的句子來看看模型是否可以正確的做好情緒分類。"
   ]
  },
  {
   "cell_type": "code",
   "execution_count": 24,
   "metadata": {
    "id": "N1dQ2jL6h5zu"
   },
   "outputs": [],
   "source": [
    "import spacy\n",
    "nlp = spacy.load(\"en_core_web_sm\")\n",
    "\n",
    "def predict_sentiment(model, sentence):\n",
    "    model.eval()\n",
    "    tokenized = [tok.text for tok in nlp.tokenizer(sentence)]\n",
    "    indexed = [TEXT.vocab.stoi[t] for t in tokenized]\n",
    "    length = [len(indexed)]\n",
    "    tensor = torch.LongTensor(indexed).to(device)\n",
    "    tensor = tensor.unsqueeze(1)\n",
    "    length_tensor = torch.LongTensor(length)\n",
    "    prediction = torch.sigmoid(model(tensor, length_tensor))\n",
    "    return prediction.item()"
   ]
  },
  {
   "cell_type": "markdown",
   "metadata": {
    "id": "RNTmEPO2h5zu"
   },
   "source": [
    "# Demo"
   ]
  },
  {
   "cell_type": "code",
   "execution_count": 25,
   "metadata": {
    "colab": {
     "base_uri": "https://localhost:8080/"
    },
    "executionInfo": {
     "elapsed": 793,
     "status": "ok",
     "timestamp": 1610968721048,
     "user": {
      "displayName": "TJ Huang",
      "photoUrl": "https://lh3.googleusercontent.com/a-/AOh14GhD8ZNogaI1a7JvaPCP0sixRAUqrNuHydZOR0qLPQ=s64",
      "userId": "07122505407861381538"
     },
     "user_tz": -480
    },
    "id": "VdyUrek4h5zu",
    "outputId": "d5ddca54-02a5-4042-a299-47f260e72c36"
   },
   "outputs": [
    {
     "name": "stdout",
     "output_type": "stream",
     "text": [
      "This film is bad --> Negtive\n",
      "This film is good --> Positive\n"
     ]
    }
   ],
   "source": [
    "sentences = [\"This film is bad\", \"This film is good\"]\n",
    "for sentence in sentences:\n",
    "  if predict_sentiment(model, sentence) > 0.5:\n",
    "    print(\"{} --> Positive\".format(sentence))\n",
    "  else:\n",
    "    print(\"{} --> Negtive\".format(sentence))"
   ]
  },
  {
   "cell_type": "markdown",
   "metadata": {
    "id": "ByB6QdaFh5zu"
   },
   "source": [
    "## 參考資料\n",
    "\n",
    "torchtext 入門\n",
    "\n",
    "https://zhuanlan.zhihu.com/p/31139113"
   ]
  }
 ],
 "metadata": {
  "accelerator": "GPU",
  "colab": {
   "collapsed_sections": [],
   "name": "作業_IMDB_RNN.ipynb",
   "provenance": [],
   "toc_visible": true
  },
  "kernelspec": {
   "display_name": "Python 3 (ipykernel)",
   "language": "python",
   "name": "python3"
  },
  "language_info": {
   "codemirror_mode": {
    "name": "ipython",
    "version": 3
   },
   "file_extension": ".py",
   "mimetype": "text/x-python",
   "name": "python",
   "nbconvert_exporter": "python",
   "pygments_lexer": "ipython3",
   "version": "3.8.20"
  }
 },
 "nbformat": 4,
 "nbformat_minor": 4
}
