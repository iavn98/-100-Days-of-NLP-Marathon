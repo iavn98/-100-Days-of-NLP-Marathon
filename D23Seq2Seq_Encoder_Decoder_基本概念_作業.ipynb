{
  "nbformat": 4,
  "nbformat_minor": 0,
  "metadata": {
    "colab": {
      "provenance": []
    },
    "kernelspec": {
      "name": "python3",
      "display_name": "Python 3"
    }
  },
  "cells": [
    {
      "cell_type": "markdown",
      "metadata": {
        "id": "QN7P90TOJcLs"
      },
      "source": [
        "# 作業: Sequence to Sequence 可以做什麼？"
      ]
    },
    {
      "cell_type": "markdown",
      "metadata": {
        "id": "nVdX55IeJgaf"
      },
      "source": [
        "## [作業目標]\n",
        "瞭解目前 Seq2Seq 的應用領域"
      ]
    },
    {
      "cell_type": "markdown",
      "metadata": {
        "id": "8QZV1BhcNHtp"
      },
      "source": [
        "## [作業重點]\n",
        "查詢 Seq2Seq 的應用，瞭解 Seq2Seq 可以做些什麼事，瞭解一下涉及的領域應用背景"
      ]
    },
    {
      "cell_type": "markdown",
      "metadata": {
        "id": "QPYgcakvJzMk"
      },
      "source": [
        "# [問題]\n",
        "請學員網路查查除了有沒有其他更有用、有趣的 Seq2Seq 應用?\n",
        "\n",
        "\n",
        "\n"
      ]
    },
    {
      "cell_type": "markdown",
      "metadata": {
        "id": "m30djHaLEIIw"
      },
      "source": [
        "# [解答]\n",
        "機器翻譯：將輸入語言的句子翻譯成目標語言。例如，將英語句子翻譯為法語句子。\n",
        "\n",
        "文本摘要：生成輸入文本的摘要。\n",
        "\n",
        "對話系統：生成類似聊天機器人的回應。\n",
        "\n",
        "文本生成：生成新文本，基於提供的上下文進行續寫。\n",
        "\n",
        "語音到文本轉換：將語音轉換成書面文本。\n",
        "\n"
      ]
    }
  ]
}