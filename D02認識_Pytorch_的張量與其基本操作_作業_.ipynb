{
  "cells": [
    {
      "cell_type": "markdown",
      "metadata": {
        "id": "_jPWqOTAfbrk"
      },
      "source": [
        "### 作業目的: 更加熟習pytorch的tensor操作\n",
        "\n",
        "pytorch中有提供很多的API，讓使用者針對tensor進行各式各樣的操作，本次的作業希望讀者由pytorch的[官方網站](https://pytorch.org/docs/stable/torch.html)中選定四個針對tensor操作的API，對他的使用方法進行範例操作演練。"
      ]
    },
    {
      "cell_type": "markdown",
      "metadata": {
        "id": "tuFv5IX6fbry"
      },
      "source": [
        "### 選定的API 函數\n",
        "\n",
        "**請寫下選定的API functions**\n",
        "\n",
        "ex:\n",
        "* torch.from_array() / tensor.numpy()\n",
        "* torch.unsqueeze() / torch.squeeze()\n",
        "* tensor.transpose() / tensor.permute()\n",
        "* torch.reshape() / tensor.view()"
      ]
    },
    {
      "cell_type": "code",
      "execution_count": 1,
      "metadata": {
        "id": "Y5rLvn6Ffbr1"
      },
      "outputs": [],
      "source": [
        "# Import torch and other required modules\n",
        "import torch\n",
        "import numpy as np"
      ]
    },
    {
      "cell_type": "markdown",
      "metadata": {
        "id": "uYPjrSaXfbr6"
      },
      "source": [
        "### 範例:\n",
        "### Function 1 - torch.from_array() / tensor.numpy()"
      ]
    },
    {
      "cell_type": "code",
      "execution_count": 2,
      "metadata": {
        "colab": {
          "base_uri": "https://localhost:8080/"
        },
        "id": "DsbFNd-1fbr8",
        "outputId": "e1ddcd71-5bde-4bec-942b-42898b6e015e"
      },
      "outputs": [
        {
          "output_type": "stream",
          "name": "stdout",
          "text": [
            "a: <class 'numpy.ndarray'>, float64\n",
            "b: <class 'torch.Tensor'>, torch.float64\n",
            "c: <class 'torch.Tensor'>, torch.float64\n",
            "d: <class 'numpy.ndarray'>, float64\n"
          ]
        }
      ],
      "source": [
        "# Example 1 - 將torch tensor與numpy ndarray互相轉換\n",
        "a = np.random.rand(1,2,3,3)\n",
        "print(f'a: {type(a)}, {a.dtype}')\n",
        "b = torch.from_numpy(a)\n",
        "print(f'b: {type(b)}, {b.dtype}')\n",
        "c = torch.tensor(a)\n",
        "print(f'c: {type(c)}, {c.dtype}')\n",
        "d = c.numpy()\n",
        "print(f'd: {type(d)}, {d.dtype}')"
      ]
    },
    {
      "cell_type": "code",
      "execution_count": 3,
      "metadata": {
        "colab": {
          "base_uri": "https://localhost:8080/"
        },
        "id": "6ehzJqXQfbr_",
        "outputId": "2cb2959e-e660-4801-ab83-325571a9a9cb"
      },
      "outputs": [
        {
          "output_type": "stream",
          "name": "stdout",
          "text": [
            "a: <class 'numpy.ndarray'>, int64\n",
            "b: <class 'torch.Tensor'>, torch.int64\n",
            "c: <class 'torch.Tensor'>, torch.int64\n",
            "d: <class 'numpy.ndarray'>, int64\n"
          ]
        }
      ],
      "source": [
        "# Example 2 - 經過轉換後，torch tensor與numpy array依然有相近的資料型態\n",
        "a = np.random.randint(low=0, high=10, size=(2,2))\n",
        "print(f'a: {type(a)}, {a.dtype}')\n",
        "b = torch.from_numpy(a)\n",
        "print(f'b: {type(b)}, {b.dtype}')\n",
        "c = torch.tensor(a)\n",
        "print(f'c: {type(c)}, {c.dtype}')\n",
        "d = c.numpy()\n",
        "print(f'd: {type(d)}, {d.dtype}')"
      ]
    },
    {
      "cell_type": "markdown",
      "metadata": {
        "id": "sDjpbwYXfbsB"
      },
      "source": [
        "### Function 2 - torch.unsqueeze() / torch.squeeze()"
      ]
    },
    {
      "cell_type": "code",
      "execution_count": 4,
      "metadata": {
        "colab": {
          "base_uri": "https://localhost:8080/"
        },
        "id": "l-UYdNYnfbsD",
        "outputId": "0640e9a5-bd10-4a1c-9e61-4d22d8213328"
      },
      "outputs": [
        {
          "output_type": "stream",
          "name": "stdout",
          "text": [
            "Before unsqueeze/squeeze: torch.Size([1, 2, 3, 4])\n",
            "After unsqueeze: torch.Size([1, 1, 2, 3, 4])\n",
            "After squeeze: torch.Size([2, 3, 4])\n"
          ]
        }
      ],
      "source": [
        "# Example - 增減torch tensor維度\n",
        "a = torch.randn((1, 2, 3, 4))\n",
        "print(f'Before unsqueeze/squeeze: {a.size()}')\n",
        "b = torch.unsqueeze(a, 0)\n",
        "print(f'After unsqueeze: {b.size()}')\n",
        "c = torch.squeeze(a, 0)\n",
        "print(f'After squeeze: {c.size()}')"
      ]
    },
    {
      "cell_type": "markdown",
      "metadata": {
        "id": "AENuN3P4fbsG"
      },
      "source": [
        "### Function 3 - tensor.transpose() / tensor.permute()"
      ]
    },
    {
      "cell_type": "code",
      "execution_count": 5,
      "metadata": {
        "colab": {
          "base_uri": "https://localhost:8080/"
        },
        "id": "C_lvQdexfbsH",
        "outputId": "abbbc008-eee5-45ba-9b43-e82180ffc37b"
      },
      "outputs": [
        {
          "output_type": "stream",
          "name": "stdout",
          "text": [
            "Original shape: torch.Size([2, 3, 4])\n",
            "Transpose shape: torch.Size([4, 3, 2])\n",
            "Permute shape: torch.Size([3, 4, 2])\n"
          ]
        }
      ],
      "source": [
        "# Example - torch tensor維度交換/轉置\n",
        "a = torch.randn((2, 3, 4))\n",
        "print(f'Original shape: {a.size()}')\n",
        "b = a.transpose(0, -1)\n",
        "print(f'Transpose shape: {b.size()}')\n",
        "c = a.permute((1,2,0))\n",
        "print(f'Permute shape: {c.size()}')"
      ]
    },
    {
      "cell_type": "markdown",
      "metadata": {
        "id": "11n1GZtVfbsK"
      },
      "source": [
        "### Function 4 - torch.reshape() / tensor.view()"
      ]
    },
    {
      "cell_type": "code",
      "execution_count": 6,
      "metadata": {
        "colab": {
          "base_uri": "https://localhost:8080/"
        },
        "id": "fFPpGOoXfbsL",
        "outputId": "1bc87762-04d8-4d26-ea1f-61b0a42f04fd"
      },
      "outputs": [
        {
          "output_type": "stream",
          "name": "stdout",
          "text": [
            "Original shape: torch.Size([9])\n",
            "Reshape shape: torch.Size([3, 3])\n",
            "View shape: torch.Size([3, 3])\n"
          ]
        }
      ],
      "source": [
        "# Example - 改變torch tensor維度(形狀)\n",
        "a = torch.arange(0, 9)\n",
        "print(f'Original shape: {a.size()}')\n",
        "b = torch.reshape(a, (3, -1))\n",
        "print(f'Reshape shape: {b.size()}')\n",
        "c = a.view((-1, 3))\n",
        "print(f'View shape: {c.size()}')"
      ]
    }
  ],
  "metadata": {
    "kernelspec": {
      "display_name": "pytorch_env",
      "language": "python",
      "name": "pytorch_env"
    },
    "language_info": {
      "codemirror_mode": {
        "name": "ipython",
        "version": 3
      },
      "file_extension": ".py",
      "mimetype": "text/x-python",
      "name": "python",
      "nbconvert_exporter": "python",
      "pygments_lexer": "ipython3",
      "version": "3.7.3"
    },
    "colab": {
      "provenance": [],
      "toc_visible": true
    }
  },
  "nbformat": 4,
  "nbformat_minor": 0
}